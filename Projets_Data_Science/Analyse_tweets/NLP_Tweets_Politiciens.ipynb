{
  "nbformat": 4,
  "nbformat_minor": 0,
  "metadata": {
    "colab": {
      "name": "NLP_Tweets_Politiciens.ipynb",
      "provenance": [],
      "collapsed_sections": [
        "oOfnJ1BJRq-X",
        "WL_lZBCE6FhE",
        "HwD9etI91pA4",
        "JKly-cTpaO0x",
        "B2ksZmsUUvxg",
        "c9Ej6e6-08cE"
      ]
    },
    "kernelspec": {
      "name": "python3",
      "display_name": "Python 3"
    }
  },
  "cells": [
    {
      "cell_type": "markdown",
      "metadata": {
        "id": "oOfnJ1BJRq-X"
      },
      "source": [
        "## Import des packages\n"
      ]
    },
    {
      "cell_type": "code",
      "metadata": {
        "id": "qOZCCj5cGeS9"
      },
      "source": [
        "import pandas as pd\n",
        "import numpy as np\n",
        "import matplotlib.pyplot as plt\n",
        "from time import time"
      ],
      "execution_count": null,
      "outputs": []
    },
    {
      "cell_type": "code",
      "metadata": {
        "id": "3j2RJy413tjS"
      },
      "source": [
        "!pip install spacy\n",
        "!pip install nltk\n",
        "!pip install emot\n",
        "!pip install scattertext"
      ],
      "execution_count": null,
      "outputs": []
    },
    {
      "cell_type": "code",
      "metadata": {
        "id": "BJOVTRrq3xsJ"
      },
      "source": [
        "!python -m spacy download fr_core_news_md"
      ],
      "execution_count": null,
      "outputs": []
    },
    {
      "cell_type": "code",
      "metadata": {
        "id": "G1d_nO78LIy9"
      },
      "source": [
        "# Modules de traitement du texte\n",
        "import spacy\n",
        "import fr_core_news_md\n",
        "import nltk\n",
        "import re\n",
        "from termcolor import colored\n",
        "from emot.emo_unicode import UNICODE_EMO, EMOTICONS\n"
      ],
      "execution_count": null,
      "outputs": []
    },
    {
      "cell_type": "code",
      "metadata": {
        "id": "0oJre-ZI3D5T"
      },
      "source": [
        "# Modules pour le wordcloud\n",
        "from PIL import Image\n",
        "from wordcloud import WordCloud, STOPWORDS, ImageColorGenerator\n",
        "\n",
        "# Modules de modélisation\n",
        "from sklearn.feature_extraction.text import TfidfVectorizer\n",
        "from sklearn.model_selection import GridSearchCV, train_test_split\n",
        "from sklearn.linear_model import LogisticRegression\n",
        "from sklearn.metrics import confusion_matrix, plot_confusion_matrix,classification_report\n",
        "\n",
        "\n",
        "# Module pour scattertext\n",
        "import scattertext as st\n"
      ],
      "execution_count": null,
      "outputs": []
    },
    {
      "cell_type": "markdown",
      "metadata": {
        "id": "WL_lZBCE6FhE"
      },
      "source": [
        "## Import des données\n",
        "\n"
      ]
    },
    {
      "cell_type": "code",
      "metadata": {
        "colab": {
          "base_uri": "https://localhost:8080/"
        },
        "id": "3tRfy8fOG9SS",
        "outputId": "fa5c7d5e-dfa7-4b44-95c2-50e2d01a6ba2"
      },
      "source": [
        "# Import des données\n",
        "\n",
        "df = pd.read_csv(\"tweets.csv\")\n",
        "df.head()"
      ],
      "execution_count": null,
      "outputs": [
        {
          "output_type": "execute_result",
          "data": {
            "text/html": [
              "<div>\n",
              "<style scoped>\n",
              "    .dataframe tbody tr th:only-of-type {\n",
              "        vertical-align: middle;\n",
              "    }\n",
              "\n",
              "    .dataframe tbody tr th {\n",
              "        vertical-align: top;\n",
              "    }\n",
              "\n",
              "    .dataframe thead th {\n",
              "        text-align: right;\n",
              "    }\n",
              "</style>\n",
              "<table border=\"1\" class=\"dataframe\">\n",
              "  <thead>\n",
              "    <tr style=\"text-align: right;\">\n",
              "      <th></th>\n",
              "      <th>id</th>\n",
              "      <th>created_at</th>\n",
              "      <th>favorite_count</th>\n",
              "      <th>retweet_count</th>\n",
              "      <th>text</th>\n",
              "      <th>user_id</th>\n",
              "    </tr>\n",
              "  </thead>\n",
              "  <tbody>\n",
              "    <tr>\n",
              "      <th>0</th>\n",
              "      <td>1355788407344164865</td>\n",
              "      <td>2021-01-31 08:02:00</td>\n",
              "      <td>628</td>\n",
              "      <td>223</td>\n",
              "      <td>Il faut imaginer une autre façon de vivre. #OE...</td>\n",
              "      <td>JLMelenchon</td>\n",
              "    </tr>\n",
              "    <tr>\n",
              "      <th>1</th>\n",
              "      <td>1355687094627274760</td>\n",
              "      <td>2021-01-31 01:19:25</td>\n",
              "      <td>541</td>\n",
              "      <td>213</td>\n",
              "      <td>Ils ont transformé le Bac en marchandise. Et v...</td>\n",
              "      <td>JLMelenchon</td>\n",
              "    </tr>\n",
              "    <tr>\n",
              "      <th>2</th>\n",
              "      <td>1355683811976237057</td>\n",
              "      <td>2021-01-31 01:06:22</td>\n",
              "      <td>434</td>\n",
              "      <td>169</td>\n",
              "      <td>La Commune appartient à l'histoire de France. ...</td>\n",
              "      <td>JLMelenchon</td>\n",
              "    </tr>\n",
              "    <tr>\n",
              "      <th>3</th>\n",
              "      <td>1355680607657996288</td>\n",
              "      <td>2021-01-31 00:53:38</td>\n",
              "      <td>363</td>\n",
              "      <td>139</td>\n",
              "      <td>Ce qui compte c'est les idées, et plus exactem...</td>\n",
              "      <td>JLMelenchon</td>\n",
              "    </tr>\n",
              "    <tr>\n",
              "      <th>4</th>\n",
              "      <td>1355679024404713474</td>\n",
              "      <td>2021-01-31 00:47:21</td>\n",
              "      <td>479</td>\n",
              "      <td>189</td>\n",
              "      <td>La situation des étudiants était prévisible. A...</td>\n",
              "      <td>JLMelenchon</td>\n",
              "    </tr>\n",
              "  </tbody>\n",
              "</table>\n",
              "</div>"
            ],
            "text/plain": [
              "                    id  ...      user_id\n",
              "0  1355788407344164865  ...  JLMelenchon\n",
              "1  1355687094627274760  ...  JLMelenchon\n",
              "2  1355683811976237057  ...  JLMelenchon\n",
              "3  1355680607657996288  ...  JLMelenchon\n",
              "4  1355679024404713474  ...  JLMelenchon\n",
              "\n",
              "[5 rows x 6 columns]"
            ]
          },
          "metadata": {
            "tags": []
          },
          "execution_count": 9
        }
      ]
    },
    {
      "cell_type": "markdown",
      "metadata": {
        "id": "HwD9etI91pA4"
      },
      "source": [
        "## **1. Analyse descriptive**\n",
        "\n"
      ]
    },
    {
      "cell_type": "code",
      "metadata": {
        "colab": {
          "base_uri": "https://localhost:8080/"
        },
        "id": "U9_jLzL8HPI4",
        "outputId": "1a6cd503-f0ba-4629-ea6d-820c30fa11b3"
      },
      "source": [
        "# Parcours des données\n",
        "df.info()"
      ],
      "execution_count": null,
      "outputs": [
        {
          "output_type": "stream",
          "text": [
            "<class 'pandas.core.frame.DataFrame'>\n",
            "RangeIndex: 7690 entries, 0 to 7689\n",
            "Data columns (total 6 columns):\n",
            " #   Column          Non-Null Count  Dtype \n",
            "---  ------          --------------  ----- \n",
            " 0   id              7690 non-null   int64 \n",
            " 1   created_at      7690 non-null   object\n",
            " 2   favorite_count  7690 non-null   int64 \n",
            " 3   retweet_count   7690 non-null   int64 \n",
            " 4   text            7690 non-null   object\n",
            " 5   user_id         7690 non-null   object\n",
            "dtypes: int64(3), object(3)\n",
            "memory usage: 360.6+ KB\n"
          ],
          "name": "stdout"
        }
      ]
    },
    {
      "cell_type": "code",
      "metadata": {
        "colab": {
          "base_uri": "https://localhost:8080/"
        },
        "id": "K3s8Bkc3Hee1",
        "outputId": "d919b99a-d30d-435e-edc8-6566064bcae4"
      },
      "source": [
        "#Nombre de lignes et colonnes\n",
        "df.shape"
      ],
      "execution_count": null,
      "outputs": [
        {
          "output_type": "execute_result",
          "data": {
            "text/plain": [
              "(7690, 6)"
            ]
          },
          "metadata": {
            "tags": []
          },
          "execution_count": 11
        }
      ]
    },
    {
      "cell_type": "code",
      "metadata": {
        "colab": {
          "base_uri": "https://localhost:8080/"
        },
        "id": "IgNRGUZOJJVB",
        "outputId": "77aca534-6dbd-428a-9f9f-5da552b7eeff"
      },
      "source": [
        "# Données manquantes ?\n",
        "\"\"\"Avec .info(), on peut savoir le nombre de données non-nulles\"\"\"\n",
        "\"\"\"ou avec la méthode .isnull().sum()\"\"\"\n",
        "\n",
        "def missing_data():\n",
        "  print(df.isnull().sum())\n",
        "\n",
        "missing_data()"
      ],
      "execution_count": null,
      "outputs": [
        {
          "output_type": "stream",
          "text": [
            "id                0\n",
            "created_at        0\n",
            "favorite_count    0\n",
            "retweet_count     0\n",
            "text              0\n",
            "user_id           0\n",
            "dtype: int64\n"
          ],
          "name": "stdout"
        }
      ]
    },
    {
      "cell_type": "code",
      "metadata": {
        "colab": {
          "base_uri": "https://localhost:8080/"
        },
        "id": "A9hz870qNVjA",
        "outputId": "7c86106e-56c4-42f2-e767-4513dd17775d"
      },
      "source": [
        "#Combien de tweets de JLM et MLP ?\n",
        "print(df.user_id.value_counts())\n",
        "print()\n",
        "print(\"En pourcentage :\")\n",
        "print(df.user_id.value_counts()/len(df)) #ou df.user_id.value_counts(normalize=True)\n",
        "print()\n",
        "\"\"\" Ici on sait que notre échantillon est assez équilibré \"\"\""
      ],
      "execution_count": null,
      "outputs": [
        {
          "output_type": "stream",
          "text": [
            "EmmanuelMacron    2897\n",
            "MLP_officiel      2559\n",
            "JLMelenchon       2234\n",
            "Name: user_id, dtype: int64\n",
            "\n",
            "En pourcentage :\n",
            "EmmanuelMacron    0.376723\n",
            "MLP_officiel      0.332770\n",
            "JLMelenchon       0.290507\n",
            "Name: user_id, dtype: float64\n",
            "\n"
          ],
          "name": "stdout"
        },
        {
          "output_type": "execute_result",
          "data": {
            "application/vnd.google.colaboratory.intrinsic+json": {
              "type": "string"
            },
            "text/plain": [
              "' Ici on sait que notre échantillon est assez équilibré '"
            ]
          },
          "metadata": {
            "tags": []
          },
          "execution_count": 13
        }
      ]
    },
    {
      "cell_type": "code",
      "metadata": {
        "colab": {
          "base_uri": "https://localhost:8080/"
        },
        "id": "AduAAas1Neh-",
        "outputId": "10fc5079-c515-46a2-c5ff-28cb95b80244"
      },
      "source": [
        "# Dates minimales et maximales de chaque tweet \n",
        "\n",
        "#min = df.groupby([\"user_id\"]).created_at.min()\n",
        "#max = df.groupby([\"user_id\"]).created_at.max()\n",
        "\n",
        "df.groupby([\"user_id\"]).created_at.apply(lambda x : [x.min(), x.max()])\n"
      ],
      "execution_count": null,
      "outputs": [
        {
          "output_type": "execute_result",
          "data": {
            "text/plain": [
              "user_id\n",
              "EmmanuelMacron    [2018-05-01 18:40:31, 2021-01-30 17:08:01]\n",
              "JLMelenchon       [2020-04-19 09:59:47, 2021-01-31 08:02:00]\n",
              "MLP_officiel      [2019-01-19 16:05:02, 2021-01-29 21:02:28]\n",
              "Name: created_at, dtype: object"
            ]
          },
          "metadata": {
            "tags": []
          },
          "execution_count": 14
        }
      ]
    },
    {
      "cell_type": "code",
      "metadata": {
        "colab": {
          "base_uri": "https://localhost:8080/"
        },
        "id": "TViBUtuYXmn6",
        "outputId": "3920fb00-cd2d-450e-871c-9620bdf444c7"
      },
      "source": [
        "# Quelle est la distribution des favoris et des retweets ?\n",
        "\"\"\"\" c'est-à-dire regarder la médiane, moyenne, quartiles... \"\"\"\n",
        "\n",
        "df.groupby([\"user_id\"])[[\"favorite_count\", \"retweet_count\"]].describe()"
      ],
      "execution_count": null,
      "outputs": [
        {
          "output_type": "execute_result",
          "data": {
            "text/html": [
              "<div>\n",
              "<style scoped>\n",
              "    .dataframe tbody tr th:only-of-type {\n",
              "        vertical-align: middle;\n",
              "    }\n",
              "\n",
              "    .dataframe tbody tr th {\n",
              "        vertical-align: top;\n",
              "    }\n",
              "\n",
              "    .dataframe thead tr th {\n",
              "        text-align: left;\n",
              "    }\n",
              "\n",
              "    .dataframe thead tr:last-of-type th {\n",
              "        text-align: right;\n",
              "    }\n",
              "</style>\n",
              "<table border=\"1\" class=\"dataframe\">\n",
              "  <thead>\n",
              "    <tr>\n",
              "      <th></th>\n",
              "      <th colspan=\"8\" halign=\"left\">favorite_count</th>\n",
              "      <th colspan=\"8\" halign=\"left\">retweet_count</th>\n",
              "    </tr>\n",
              "    <tr>\n",
              "      <th></th>\n",
              "      <th>count</th>\n",
              "      <th>mean</th>\n",
              "      <th>std</th>\n",
              "      <th>min</th>\n",
              "      <th>25%</th>\n",
              "      <th>50%</th>\n",
              "      <th>75%</th>\n",
              "      <th>max</th>\n",
              "      <th>count</th>\n",
              "      <th>mean</th>\n",
              "      <th>std</th>\n",
              "      <th>min</th>\n",
              "      <th>25%</th>\n",
              "      <th>50%</th>\n",
              "      <th>75%</th>\n",
              "      <th>max</th>\n",
              "    </tr>\n",
              "    <tr>\n",
              "      <th>user_id</th>\n",
              "      <th></th>\n",
              "      <th></th>\n",
              "      <th></th>\n",
              "      <th></th>\n",
              "      <th></th>\n",
              "      <th></th>\n",
              "      <th></th>\n",
              "      <th></th>\n",
              "      <th></th>\n",
              "      <th></th>\n",
              "      <th></th>\n",
              "      <th></th>\n",
              "      <th></th>\n",
              "      <th></th>\n",
              "      <th></th>\n",
              "      <th></th>\n",
              "    </tr>\n",
              "  </thead>\n",
              "  <tbody>\n",
              "    <tr>\n",
              "      <th>EmmanuelMacron</th>\n",
              "      <td>2897.0</td>\n",
              "      <td>5506.235416</td>\n",
              "      <td>13867.602674</td>\n",
              "      <td>132.0</td>\n",
              "      <td>879.0</td>\n",
              "      <td>2007.0</td>\n",
              "      <td>4633.0</td>\n",
              "      <td>243755.0</td>\n",
              "      <td>2897.0</td>\n",
              "      <td>1128.890576</td>\n",
              "      <td>3379.589590</td>\n",
              "      <td>36.0</td>\n",
              "      <td>227.0</td>\n",
              "      <td>448.0</td>\n",
              "      <td>908.0</td>\n",
              "      <td>71405.0</td>\n",
              "    </tr>\n",
              "    <tr>\n",
              "      <th>JLMelenchon</th>\n",
              "      <td>2234.0</td>\n",
              "      <td>742.933751</td>\n",
              "      <td>2288.676408</td>\n",
              "      <td>25.0</td>\n",
              "      <td>110.0</td>\n",
              "      <td>228.0</td>\n",
              "      <td>702.0</td>\n",
              "      <td>66651.0</td>\n",
              "      <td>2234.0</td>\n",
              "      <td>276.491047</td>\n",
              "      <td>860.270484</td>\n",
              "      <td>13.0</td>\n",
              "      <td>47.0</td>\n",
              "      <td>93.0</td>\n",
              "      <td>299.0</td>\n",
              "      <td>27751.0</td>\n",
              "    </tr>\n",
              "    <tr>\n",
              "      <th>MLP_officiel</th>\n",
              "      <td>2559.0</td>\n",
              "      <td>1172.197733</td>\n",
              "      <td>1168.385382</td>\n",
              "      <td>67.0</td>\n",
              "      <td>398.5</td>\n",
              "      <td>787.0</td>\n",
              "      <td>1541.5</td>\n",
              "      <td>11446.0</td>\n",
              "      <td>2559.0</td>\n",
              "      <td>472.679172</td>\n",
              "      <td>417.929886</td>\n",
              "      <td>49.0</td>\n",
              "      <td>184.0</td>\n",
              "      <td>341.0</td>\n",
              "      <td>626.0</td>\n",
              "      <td>4219.0</td>\n",
              "    </tr>\n",
              "  </tbody>\n",
              "</table>\n",
              "</div>"
            ],
            "text/plain": [
              "               favorite_count                             ... retweet_count                \n",
              "                        count         mean           std  ...           50%    75%      max\n",
              "user_id                                                   ...                              \n",
              "EmmanuelMacron         2897.0  5506.235416  13867.602674  ...         448.0  908.0  71405.0\n",
              "JLMelenchon            2234.0   742.933751   2288.676408  ...          93.0  299.0  27751.0\n",
              "MLP_officiel           2559.0  1172.197733   1168.385382  ...         341.0  626.0   4219.0\n",
              "\n",
              "[3 rows x 16 columns]"
            ]
          },
          "metadata": {
            "tags": []
          },
          "execution_count": 15
        }
      ]
    },
    {
      "cell_type": "code",
      "metadata": {
        "id": "oo4YvnlGZuLJ"
      },
      "source": [
        "# Répartition du nombre de tweets et de favoris dans le temps\n",
        "\n",
        "import datetime \n",
        "\n",
        "df[\"created_at\"] = pd.to_datetime(df['created_at'])\n",
        "\"\"\" Permet de changer le format des dates pour pouvoir l'afficher sur le graphique \"\"\"\n",
        "\n",
        "def visualize_count_favorites(df, userID) : \n",
        "  \n",
        "  ''' Cette fonction permet de visualiser le nombre de favoris et de retweets \n",
        "  sur toute la période pour un user_id donné '''\n",
        "\n",
        "  df_temp = df.loc[df[\"user_id\"] == userID]\n",
        "  ylabels = [\"favorite_count\", \"retweet_count\"]\n",
        "\n",
        "  print(\"Représentation des nombres de retweets et de favoris de chaque tweet de {} par date\".format(userID))\n",
        "  fig = plt.figure(figsize=(13,3))\n",
        "  fig.subplots_adjust(hspace=0.01,wspace=0.01)\n",
        "\n",
        "  n_row = len(ylabels)\n",
        "  n_col = 1\n",
        "  for count, ylabel in enumerate(ylabels):\n",
        "      ax = fig.add_subplot(n_row, n_col, count + 1)\n",
        "      ax.plot(df_temp[\"created_at\"], df_temp[ylabel])\n",
        "      ax.set_ylabel(ylabel)\n",
        "  \n",
        "  plt.show()"
      ],
      "execution_count": null,
      "outputs": []
    },
    {
      "cell_type": "code",
      "metadata": {
        "colab": {
          "base_uri": "https://localhost:8080/"
        },
        "id": "c5_l4eYRbl-o",
        "outputId": "afa72d5b-d5e8-4d68-bdaf-a325f224c6a2"
      },
      "source": [
        "visualize_count_favorites(df, \"JLMelenchon\")\n",
        "print(\"\\n\")\n",
        "visualize_count_favorites(df, \"MLP_officiel\")"
      ],
      "execution_count": null,
      "outputs": [
        {
          "output_type": "stream",
          "text": [
            "Représentation des nombres de retweets et de favoris de chaque tweet de JLMelenchon par date\n"
          ],
          "name": "stdout"
        },
        {
          "output_type": "display_data",
          "data": {
            "image/png": "[encoded data removed]",
            "text/plain": [
              "<Figure size 936x216 with 2 Axes>"
            ]
          },
          "metadata": {
            "tags": [],
            "needs_background": "light"
          }
        },
        {
          "output_type": "stream",
          "text": [
            "\n",
            "\n",
            "Représentation des nombres de retweets et de favoris de chaque tweet de MLP_officiel par date\n"
          ],
          "name": "stdout"
        },
        {
          "output_type": "display_data",
          "data": {
            "image/png": "[encoded data removed]",
            "text/plain": [
              "<Figure size 936x216 with 2 Axes>"
            ]
          },
          "metadata": {
            "tags": [],
            "needs_background": "light"
          }
        }
      ]
    },
    {
      "cell_type": "code",
      "metadata": {
        "colab": {
          "base_uri": "https://localhost:8080/"
        },
        "id": "HJN4nkcXgfj3",
        "outputId": "eab314bf-5e3a-4367-d677-e3c7e8cbe2c2"
      },
      "source": [
        "df.head()"
      ],
      "execution_count": null,
      "outputs": [
        {
          "output_type": "execute_result",
          "data": {
            "text/html": [
              "<div>\n",
              "<style scoped>\n",
              "    .dataframe tbody tr th:only-of-type {\n",
              "        vertical-align: middle;\n",
              "    }\n",
              "\n",
              "    .dataframe tbody tr th {\n",
              "        vertical-align: top;\n",
              "    }\n",
              "\n",
              "    .dataframe thead th {\n",
              "        text-align: right;\n",
              "    }\n",
              "</style>\n",
              "<table border=\"1\" class=\"dataframe\">\n",
              "  <thead>\n",
              "    <tr style=\"text-align: right;\">\n",
              "      <th></th>\n",
              "      <th>id</th>\n",
              "      <th>created_at</th>\n",
              "      <th>favorite_count</th>\n",
              "      <th>retweet_count</th>\n",
              "      <th>text</th>\n",
              "      <th>user_id</th>\n",
              "    </tr>\n",
              "  </thead>\n",
              "  <tbody>\n",
              "    <tr>\n",
              "      <th>0</th>\n",
              "      <td>1355788407344164865</td>\n",
              "      <td>2021-01-31 08:02:00</td>\n",
              "      <td>628</td>\n",
              "      <td>223</td>\n",
              "      <td>Il faut imaginer une autre façon de vivre. #OE...</td>\n",
              "      <td>JLMelenchon</td>\n",
              "    </tr>\n",
              "    <tr>\n",
              "      <th>1</th>\n",
              "      <td>1355687094627274760</td>\n",
              "      <td>2021-01-31 01:19:25</td>\n",
              "      <td>541</td>\n",
              "      <td>213</td>\n",
              "      <td>Ils ont transformé le Bac en marchandise. Et v...</td>\n",
              "      <td>JLMelenchon</td>\n",
              "    </tr>\n",
              "    <tr>\n",
              "      <th>2</th>\n",
              "      <td>1355683811976237057</td>\n",
              "      <td>2021-01-31 01:06:22</td>\n",
              "      <td>434</td>\n",
              "      <td>169</td>\n",
              "      <td>La Commune appartient à l'histoire de France. ...</td>\n",
              "      <td>JLMelenchon</td>\n",
              "    </tr>\n",
              "    <tr>\n",
              "      <th>3</th>\n",
              "      <td>1355680607657996288</td>\n",
              "      <td>2021-01-31 00:53:38</td>\n",
              "      <td>363</td>\n",
              "      <td>139</td>\n",
              "      <td>Ce qui compte c'est les idées, et plus exactem...</td>\n",
              "      <td>JLMelenchon</td>\n",
              "    </tr>\n",
              "    <tr>\n",
              "      <th>4</th>\n",
              "      <td>1355679024404713474</td>\n",
              "      <td>2021-01-31 00:47:21</td>\n",
              "      <td>479</td>\n",
              "      <td>189</td>\n",
              "      <td>La situation des étudiants était prévisible. A...</td>\n",
              "      <td>JLMelenchon</td>\n",
              "    </tr>\n",
              "  </tbody>\n",
              "</table>\n",
              "</div>"
            ],
            "text/plain": [
              "                    id  ...      user_id\n",
              "0  1355788407344164865  ...  JLMelenchon\n",
              "1  1355687094627274760  ...  JLMelenchon\n",
              "2  1355683811976237057  ...  JLMelenchon\n",
              "3  1355680607657996288  ...  JLMelenchon\n",
              "4  1355679024404713474  ...  JLMelenchon\n",
              "\n",
              "[5 rows x 6 columns]"
            ]
          },
          "metadata": {
            "tags": []
          },
          "execution_count": 18
        }
      ]
    },
    {
      "cell_type": "code",
      "metadata": {
        "colab": {
          "base_uri": "https://localhost:8080/"
        },
        "id": "FDCx8Bzjflfh",
        "outputId": "65af1fb4-5fc4-4668-cc34-12177b058354"
      },
      "source": [
        "# Tailles des tweets par politique\n",
        "\n",
        "df[\"length_text\"] = df[\"text\"].apply(lambda x : len(x.split()))\n",
        "df.head()\n",
        "\n",
        "df.groupby([\"user_id\"]).length_text.apply(lambda x: [f\"min={x.min()} : max={x.max()}\"])\n",
        "\n",
        "df.groupby([\"user_id\"]).length_text.describe()\n",
        "\n"
      ],
      "execution_count": null,
      "outputs": [
        {
          "output_type": "execute_result",
          "data": {
            "text/html": [
              "<div>\n",
              "<style scoped>\n",
              "    .dataframe tbody tr th:only-of-type {\n",
              "        vertical-align: middle;\n",
              "    }\n",
              "\n",
              "    .dataframe tbody tr th {\n",
              "        vertical-align: top;\n",
              "    }\n",
              "\n",
              "    .dataframe thead th {\n",
              "        text-align: right;\n",
              "    }\n",
              "</style>\n",
              "<table border=\"1\" class=\"dataframe\">\n",
              "  <thead>\n",
              "    <tr style=\"text-align: right;\">\n",
              "      <th></th>\n",
              "      <th>count</th>\n",
              "      <th>mean</th>\n",
              "      <th>std</th>\n",
              "      <th>min</th>\n",
              "      <th>25%</th>\n",
              "      <th>50%</th>\n",
              "      <th>75%</th>\n",
              "      <th>max</th>\n",
              "    </tr>\n",
              "    <tr>\n",
              "      <th>user_id</th>\n",
              "      <th></th>\n",
              "      <th></th>\n",
              "      <th></th>\n",
              "      <th></th>\n",
              "      <th></th>\n",
              "      <th></th>\n",
              "      <th></th>\n",
              "      <th></th>\n",
              "    </tr>\n",
              "  </thead>\n",
              "  <tbody>\n",
              "    <tr>\n",
              "      <th>EmmanuelMacron</th>\n",
              "      <td>2897.0</td>\n",
              "      <td>28.575423</td>\n",
              "      <td>12.003363</td>\n",
              "      <td>1.0</td>\n",
              "      <td>19.0</td>\n",
              "      <td>29.0</td>\n",
              "      <td>39.0</td>\n",
              "      <td>57.0</td>\n",
              "    </tr>\n",
              "    <tr>\n",
              "      <th>JLMelenchon</th>\n",
              "      <td>2234.0</td>\n",
              "      <td>30.417189</td>\n",
              "      <td>11.141463</td>\n",
              "      <td>1.0</td>\n",
              "      <td>22.0</td>\n",
              "      <td>31.0</td>\n",
              "      <td>39.0</td>\n",
              "      <td>58.0</td>\n",
              "    </tr>\n",
              "    <tr>\n",
              "      <th>MLP_officiel</th>\n",
              "      <td>2559.0</td>\n",
              "      <td>35.613130</td>\n",
              "      <td>10.775029</td>\n",
              "      <td>1.0</td>\n",
              "      <td>30.0</td>\n",
              "      <td>38.0</td>\n",
              "      <td>43.0</td>\n",
              "      <td>55.0</td>\n",
              "    </tr>\n",
              "  </tbody>\n",
              "</table>\n",
              "</div>"
            ],
            "text/plain": [
              "                 count       mean        std  min   25%   50%   75%   max\n",
              "user_id                                                                  \n",
              "EmmanuelMacron  2897.0  28.575423  12.003363  1.0  19.0  29.0  39.0  57.0\n",
              "JLMelenchon     2234.0  30.417189  11.141463  1.0  22.0  31.0  39.0  58.0\n",
              "MLP_officiel    2559.0  35.613130  10.775029  1.0  30.0  38.0  43.0  55.0"
            ]
          },
          "metadata": {
            "tags": []
          },
          "execution_count": 19
        }
      ]
    },
    {
      "cell_type": "code",
      "metadata": {
        "colab": {
          "base_uri": "https://localhost:8080/"
        },
        "id": "kjYu0OTmpa7S",
        "outputId": "58c70d81-5e7e-4ca3-e184-647670e147d7"
      },
      "source": [
        "def print_famous_tweets(userID, nb_favorites) :\n",
        "\n",
        "  ''' Cette fonction permet de sélectionner les tweets qui ont eu le plus de favoris \n",
        "  pour un user_id donné, et de lire le tweet avec les indicateurs des autres variables de la \n",
        "  base de données  \n",
        "  '''\n",
        "\n",
        "  df_sub = df.loc[(df.user_id==userID) & (df.favorite_count > nb_favorites),:]\n",
        "  for irow in range(df_sub.shape[0]):\n",
        "      df_row = df_sub.iloc[irow,:]\n",
        "    \n",
        "      print(df_row[\"created_at\"])\n",
        "      print(\"favorite_count={:6} retweet_count={:6}\".format(df_row[\"favorite_count\"],df_row[\"retweet_count\"]))\n",
        "      print(colored(df_row[\"text\"], 'cyan'))\n",
        "      print(\"\\n\")\n",
        "\n",
        "print_famous_tweets(\"JLMelenchon\", 20000)\n",
        "print(\"-\" * 150)\n",
        "print_famous_tweets(\"MLP_officiel\", 10000)"
      ],
      "execution_count": null,
      "outputs": [
        {
          "output_type": "stream",
          "text": [
            "2020-10-14 18:38:21\n",
            "favorite_count= 66651 retweet_count= 27751\n",
            "\u001b[36m60 % des contaminations ont lieu au travail ou à l'école ou à l'université entre 8h et 19h. \n",
            "\n",
            "Mais #Macron interdit les sorties au bar et au restau entre 20h et 6h. \n",
            "\n",
            "Bienvenue en Absurdie.\n",
            "\n",
            "#macron20h #CouvreFeu #COVID19france\u001b[0m\n",
            "\n",
            "\n",
            "2020-09-14 13:41:47\n",
            "favorite_count= 26941 retweet_count= 10319\n",
            "\u001b[36mLa haine contre la 2ème religion du pays n'a donc plus de limite. https://t.co/0latKIG78G\u001b[0m\n",
            "\n",
            "\n",
            "2020-06-02 21:42:01\n",
            "favorite_count= 21947 retweet_count=  8461\n",
            "\u001b[36m#Castaner ! La violence c'est vous et votre préfet qui la provoquez ! Ça suffit ! Le pays mérite mieux que votre jeu d'apprenti sorcier. Donald Trump n'est pas un modèle. #JusticePourAdama\u001b[0m\n",
            "\n",
            "\n",
            "2020-04-28 19:56:04\n",
            "favorite_count= 55881 retweet_count= 18265\n",
            "\u001b[36mJ'ai pas compris. Le #11mai il déconfine les coiffeurs oui ou non ? #DirectAN https://t.co/3s2ml69ful https://t.co/XWTCpZr4j5\u001b[0m\n",
            "\n",
            "\n",
            "------------------------------------------------------------------------------------------------------------------------------------------------------\n",
            "2020-10-30 19:14:43\n",
            "favorite_count= 10007 retweet_count=  2834\n",
            "\u001b[36mAu regard des nouvelles manifestations ultra-violentes aujourd’hui au #Bangladesh (manifestants qui ont appelé à décapiter notre ambassadeur), et au #Pakistan, je demande un moratoire immédiat sur l’immigration originaire de ces pays, au nom de la sécurité nationale. MLP\u001b[0m\n",
            "\n",
            "\n",
            "2020-10-16 17:45:30\n",
            "favorite_count= 10650 retweet_count=  3524\n",
            "\u001b[36mUn professeur décapité pour avoir présenté les caricatures de #CharlieHebdo : nous en sommes, en France, à ce niveau de barbarie insoutenable. L’islamisme nous mène une guerre : c’est par la force que nous devons le chasser de notre pays. MLP\u001b[0m\n",
            "\n",
            "\n",
            "2020-03-14 06:33:42\n",
            "favorite_count= 11446 retweet_count=  3304\n",
            "\u001b[36m🇫🇷🇮🇹 Les Italiens, unis face à l’épidémie, se retrouvent à leurs balcons pour chanter leur hymne national. Très belles images de communion patriotique. \n",
            "\n",
            "Nous sommes de tout cœur avec vous ! ❤️ MLP https://t.co/XKBAtPY1K4\u001b[0m\n",
            "\n",
            "\n"
          ],
          "name": "stdout"
        }
      ]
    },
    {
      "cell_type": "markdown",
      "metadata": {
        "id": "S20EfQjT2T2w"
      },
      "source": [
        "## **2. Preprocessing du texte**\n"
      ]
    },
    {
      "cell_type": "markdown",
      "metadata": {
        "id": "JKly-cTpaO0x"
      },
      "source": [
        "### Nettoyage du texte\n",
        "Retrait des mots qui rajoutent du bruit à l'analyse (et n'apportent rien) \\\n",
        "- convertion des emojis en texte\n",
        "- suppression de certaines expressions grâce à des expressions régulières\n",
        "- suppression des stopwords\n"
      ]
    },
    {
      "cell_type": "code",
      "metadata": {
        "id": "LiMQXUREObVq"
      },
      "source": [
        "# on charge le modèle français de spacy\n",
        "nlp = fr_core_news_md.load()"
      ],
      "execution_count": null,
      "outputs": []
    },
    {
      "cell_type": "code",
      "metadata": {
        "id": "U41BXHthIBbu"
      },
      "source": [
        "from spacy.lang.fr.stop_words import STOP_WORDS as stopwords"
      ],
      "execution_count": null,
      "outputs": []
    },
    {
      "cell_type": "code",
      "metadata": {
        "id": "4M7MgIXV5dyF",
        "colab": {
          "base_uri": "https://localhost:8080/"
        },
        "outputId": "95df6e76-49d5-476e-b4e2-71f311829b3f"
      },
      "source": [
        "# On rajoute dans des stopwords à la liste de stopwords proposée par spacy\n",
        "stopwords |= {\"mlp\",\"a\",\"faut\",\"faire\",\"monsieur\",\"rendez-vous\",\"direct\",\n",
        "                            \"interview\",r\"invité\\w+\",\"dit\",\"livetweet\",\"suivez\",\"celui\",\n",
        "                            \"ce\",\"cette\",\"emot_right_arrow\"}\n",
        "\n",
        "len(stopwords)"
      ],
      "execution_count": null,
      "outputs": [
        {
          "output_type": "execute_result",
          "data": {
            "text/plain": [
              "611"
            ]
          },
          "metadata": {
            "tags": []
          },
          "execution_count": 23
        }
      ]
    },
    {
      "cell_type": "code",
      "metadata": {
        "id": "eSWeLhIj2VSJ"
      },
      "source": [
        "# Conversion des emojis en texte\n",
        "\n",
        "def convert_emojis(text):\n",
        "  ''' Cette fonction transforme les emojis en texte qui commente par \n",
        "  emot_ puis la description en anglais de l'emoji.\n",
        "  Certains emojis ne sont pas bien convertis (ex : certains drapeaux)'''\n",
        "\n",
        "  for emot in UNICODE_EMO:\n",
        "    name_emoticon = \"_\".join(UNICODE_EMO[emot].replace(\",\",\"\").replace(\":\",\"\").replace(\"&\",\"\").split())\n",
        "    name_emoticon = re.sub(r\"[_-]+\", \"_\", name_emoticon)\n",
        "    name_emoticon = \"emot_\" + name_emoticon + \" \"\n",
        "    text = text.replace(emot, name_emoticon + \" \")\n",
        "  text = re.sub(r\"\\s+\", \" \", text)\n",
        "  return text\n"
      ],
      "execution_count": null,
      "outputs": []
    },
    {
      "cell_type": "code",
      "metadata": {
        "id": "akE-BRupM9cX"
      },
      "source": [
        "regexp_link = re.compile(r\"http\\S+\") # suppression des liens\n",
        "regexp_punctuation = re.compile(\"[,\\./<>\\?;':\\\"\\[\\]\\\\{}|`~!$%^&*()+-=«»’]\") # suppression des ponctuations\n",
        "regexp_hashtags = re.compile(r\"[#@]\\w+\")    # suppression des hashtags et @\n",
        "\n",
        "# Rajout regexp après premier scattertext\n",
        "regexp_frenchflag = re.compile(\"🇫🇷\")"
      ],
      "execution_count": null,
      "outputs": []
    },
    {
      "cell_type": "code",
      "metadata": {
        "id": "E5ewxEkoNZrM"
      },
      "source": [
        "df[\"text\"] = [x.lower() for x in df[\"text\"]]\n",
        "\n",
        "def remove_punct(doc):\n",
        "  return [token for token in doc if not token.is_punct]\n",
        "\n",
        "def remove_stop_words(doc):\n",
        "  return [token for token in doc if not token.is_stop]\n",
        "\n",
        "def lemmatize(doc):\n",
        "   return ' '.join([token.lemma_ for token in doc])"
      ],
      "execution_count": null,
      "outputs": []
    },
    {
      "cell_type": "code",
      "metadata": {
        "id": "c-JMg19QVUn8"
      },
      "source": [
        "'''Fonction permettant de nettoyer le texte. Elle reprend les fonctions ci-dessus pour retirer les ponctuations, les hashtags et les liens'''\n",
        "\n",
        "def preprocess_tweet(text, lemmatizing=True, delete_pos=False) : \n",
        "  \n",
        "  emojis_converted = convert_emojis(text)\n",
        "  french_flag_added = re.sub(regexp_frenchflag, \"french_flag\", emojis_converted)\n",
        "  text_to_lower = french_flag_added.lower().encode('utf-8').decode('utf-8')\n",
        "  text_no_link = re.sub(regexp_link, \"\", text_to_lower)\n",
        "  text_no_hastags = re.sub(regexp_hashtags, \"\", text_no_link)\n",
        "  \n",
        "  # utilisation de spacy\n",
        "  doc = nlp(text_no_hastags)\n",
        "  removed_punct = remove_punct(doc)\n",
        "  preprocessed_tweet = remove_stop_words(removed_punct)\n",
        "  if lemmatizing :\n",
        "    preprocessed_tweet = lemmatize(preprocessed_tweet)\n",
        "    \n",
        "  return(preprocessed_tweet)"
      ],
      "execution_count": null,
      "outputs": []
    },
    {
      "cell_type": "code",
      "metadata": {
        "id": "HSmDQX5rNmhQ"
      },
      "source": [
        "# Création d'une nouvelle colonne avec les données nettoyées \n",
        "df[\"preprocessed_text\"] = df[\"text\"].apply(lambda tweet : preprocess_tweet(tweet))"
      ],
      "execution_count": null,
      "outputs": []
    },
    {
      "cell_type": "code",
      "metadata": {
        "colab": {
          "base_uri": "https://localhost:8080/",
          "height": 200
        },
        "id": "j--UBRNfrbGY",
        "outputId": "f1779e9a-b4c5-4dcf-b319-b2017781be1e"
      },
      "source": [
        "df[[\"text\", \"preprocessed_text\"]].head(5)"
      ],
      "execution_count": null,
      "outputs": [
        {
          "output_type": "execute_result",
          "data": {
            "text/html": [
              "<div>\n",
              "<style scoped>\n",
              "    .dataframe tbody tr th:only-of-type {\n",
              "        vertical-align: middle;\n",
              "    }\n",
              "\n",
              "    .dataframe tbody tr th {\n",
              "        vertical-align: top;\n",
              "    }\n",
              "\n",
              "    .dataframe thead th {\n",
              "        text-align: right;\n",
              "    }\n",
              "</style>\n",
              "<table border=\"1\" class=\"dataframe\">\n",
              "  <thead>\n",
              "    <tr style=\"text-align: right;\">\n",
              "      <th></th>\n",
              "      <th>text</th>\n",
              "      <th>preprocessed_text</th>\n",
              "    </tr>\n",
              "  </thead>\n",
              "  <tbody>\n",
              "    <tr>\n",
              "      <th>0</th>\n",
              "      <td>il faut imaginer une autre façon de vivre. #oe...</td>\n",
              "      <td>falloir imaginer vivre</td>\n",
              "    </tr>\n",
              "    <tr>\n",
              "      <th>1</th>\n",
              "      <td>ils ont transformé le bac en marchandise. et v...</td>\n",
              "      <td>transformer bac marchandise voyez avoir possib...</td>\n",
              "    </tr>\n",
              "    <tr>\n",
              "      <th>2</th>\n",
              "      <td>la commune appartient à l'histoire de france. ...</td>\n",
              "      <td>commune appartenir histoire france pouvoir off...</td>\n",
              "    </tr>\n",
              "    <tr>\n",
              "      <th>3</th>\n",
              "      <td>ce qui compte c'est les idées, et plus exactem...</td>\n",
              "      <td>compte idée faire pays conséquent faire soupe ...</td>\n",
              "    </tr>\n",
              "    <tr>\n",
              "      <th>4</th>\n",
              "      <td>la situation des étudiants était prévisible. a...</td>\n",
              "      <td>situation étudiant prévisible mois mai député ...</td>\n",
              "    </tr>\n",
              "  </tbody>\n",
              "</table>\n",
              "</div>"
            ],
            "text/plain": [
              "                                                text                                  preprocessed_text\n",
              "0  il faut imaginer une autre façon de vivre. #oe...                           falloir imaginer vivre  \n",
              "1  ils ont transformé le bac en marchandise. et v...  transformer bac marchandise voyez avoir possib...\n",
              "2  la commune appartient à l'histoire de france. ...  commune appartenir histoire france pouvoir off...\n",
              "3  ce qui compte c'est les idées, et plus exactem...  compte idée faire pays conséquent faire soupe ...\n",
              "4  la situation des étudiants était prévisible. a...  situation étudiant prévisible mois mai député ..."
            ]
          },
          "metadata": {
            "tags": []
          },
          "execution_count": 29
        }
      ]
    },
    {
      "cell_type": "markdown",
      "metadata": {
        "id": "B2ksZmsUUvxg"
      },
      "source": [
        "### Tokenisation\n",
        "On tokenise la colonne de tweets prétraités (preprocess)"
      ]
    },
    {
      "cell_type": "code",
      "metadata": {
        "colab": {
          "base_uri": "https://localhost:8080/"
        },
        "id": "7AG2kSKo859k",
        "outputId": "e582b9af-5e0f-4d71-b0de-47cce52d433b"
      },
      "source": [
        "nltk.download('punkt') "
      ],
      "execution_count": null,
      "outputs": [
        {
          "output_type": "stream",
          "text": [
            "[nltk_data] Downloading package punkt to /root/nltk_data...\n",
            "[nltk_data]   Unzipping tokenizers/punkt.zip.\n"
          ],
          "name": "stdout"
        },
        {
          "output_type": "execute_result",
          "data": {
            "text/plain": [
              "True"
            ]
          },
          "metadata": {
            "tags": []
          },
          "execution_count": 30
        }
      ]
    },
    {
      "cell_type": "code",
      "metadata": {
        "id": "rEQebKsc93ZX"
      },
      "source": [
        "# Fonction de tokenisation \n",
        "def tokenisation(tweet):\n",
        "  tweet_tokenized = nltk.word_tokenize(tweet)\n",
        "  return(tweet_tokenized)"
      ],
      "execution_count": null,
      "outputs": []
    },
    {
      "cell_type": "code",
      "metadata": {
        "id": "r7WBKfmr99sp"
      },
      "source": [
        "# Création d'une nouvelle colonne \"tokens\" correspondant aux tweets tokenisés\n",
        "df[\"tokens\"] = df[\"preprocessed_text\"].apply(lambda tweet : tokenisation(tweet))"
      ],
      "execution_count": null,
      "outputs": []
    },
    {
      "cell_type": "code",
      "metadata": {
        "colab": {
          "base_uri": "https://localhost:8080/"
        },
        "id": "YqtvjWGB-HE7",
        "outputId": "a1d3727b-17b5-4660-8d21-3dabeebd5ce6"
      },
      "source": [
        "# Vérification des résultats de la tokenisation\n",
        "df[[\"preprocessed_text\", \"tokens\"]].head()"
      ],
      "execution_count": null,
      "outputs": [
        {
          "output_type": "execute_result",
          "data": {
            "text/html": [
              "<div>\n",
              "<style scoped>\n",
              "    .dataframe tbody tr th:only-of-type {\n",
              "        vertical-align: middle;\n",
              "    }\n",
              "\n",
              "    .dataframe tbody tr th {\n",
              "        vertical-align: top;\n",
              "    }\n",
              "\n",
              "    .dataframe thead th {\n",
              "        text-align: right;\n",
              "    }\n",
              "</style>\n",
              "<table border=\"1\" class=\"dataframe\">\n",
              "  <thead>\n",
              "    <tr style=\"text-align: right;\">\n",
              "      <th></th>\n",
              "      <th>preprocessed_text</th>\n",
              "      <th>tokens</th>\n",
              "    </tr>\n",
              "  </thead>\n",
              "  <tbody>\n",
              "    <tr>\n",
              "      <th>0</th>\n",
              "      <td>falloir imaginer vivre</td>\n",
              "      <td>[falloir, imaginer, vivre]</td>\n",
              "    </tr>\n",
              "    <tr>\n",
              "      <th>1</th>\n",
              "      <td>transformer bac marchandise voyez avoir possib...</td>\n",
              "      <td>[transformer, bac, marchandise, voyez, avoir, ...</td>\n",
              "    </tr>\n",
              "    <tr>\n",
              "      <th>2</th>\n",
              "      <td>commune appartenir histoire france pouvoir off...</td>\n",
              "      <td>[commune, appartenir, histoire, france, pouvoi...</td>\n",
              "    </tr>\n",
              "    <tr>\n",
              "      <th>3</th>\n",
              "      <td>compte idée faire pays conséquent faire soupe ...</td>\n",
              "      <td>[compte, idée, faire, pays, conséquent, faire,...</td>\n",
              "    </tr>\n",
              "    <tr>\n",
              "      <th>4</th>\n",
              "      <td>situation étudiant prévisible mois mai député ...</td>\n",
              "      <td>[situation, étudiant, prévisible, mois, mai, d...</td>\n",
              "    </tr>\n",
              "  </tbody>\n",
              "</table>\n",
              "</div>"
            ],
            "text/plain": [
              "                                   preprocessed_text                                             tokens\n",
              "0                           falloir imaginer vivre                           [falloir, imaginer, vivre]\n",
              "1  transformer bac marchandise voyez avoir possib...  [transformer, bac, marchandise, voyez, avoir, ...\n",
              "2  commune appartenir histoire france pouvoir off...  [commune, appartenir, histoire, france, pouvoi...\n",
              "3  compte idée faire pays conséquent faire soupe ...  [compte, idée, faire, pays, conséquent, faire,...\n",
              "4  situation étudiant prévisible mois mai député ...  [situation, étudiant, prévisible, mois, mai, d..."
            ]
          },
          "metadata": {
            "tags": []
          },
          "execution_count": 33
        }
      ]
    },
    {
      "cell_type": "markdown",
      "metadata": {
        "id": "c9Ej6e6-08cE"
      },
      "source": [
        "### Analyse du preprocess\n",
        "- combien y a-t-il de mots distincts pour chacun des deux politiciens\n",
        "- Quels sont les mots les plus utilisés par JLM et MLP ? "
      ]
    },
    {
      "cell_type": "code",
      "metadata": {
        "id": "O4N6HGJWOHcW"
      },
      "source": [
        "def create_big_tweet_by_userid(userid, col_text) : \n",
        "  ''' Regroupement des tweets de chaque politiciens dans un même text (string) '''\n",
        "  one_big_tweet = \" \".join(df.loc[df[\"user_id\"] == userid, col_text])\n",
        "  return(one_big_tweet)"
      ],
      "execution_count": null,
      "outputs": []
    },
    {
      "cell_type": "code",
      "metadata": {
        "id": "711wc14pWEnN"
      },
      "source": [
        " def get_n_most_common_words(list_words, n) :\n",
        "   ''' Mots les plus fréquents '''\n",
        "   freq_words = nltk.FreqDist(list_words)\n",
        "   print(freq_words.most_common(n))"
      ],
      "execution_count": null,
      "outputs": []
    },
    {
      "cell_type": "code",
      "metadata": {
        "colab": {
          "base_uri": "https://localhost:8080/"
        },
        "id": "TNzWJEz36JMI",
        "outputId": "ec0eb97b-8dca-4878-e35b-29e0136aceeb"
      },
      "source": [
        "# Création d'un gros tweet pour chacun des deux politiciens\n",
        "one_big_tweet_preprocess_jlm = create_big_tweet_by_userid('JLMelenchon', 'preprocessed_text')\n",
        "one_big_tweet_preprocess_mlp = create_big_tweet_by_userid('MLP_officiel', 'preprocessed_text')\n",
        "\n",
        "# Tokenisation du gros tweet de chacun des politiciens\n",
        "tokens_preprocess_jlm = tokenisation(one_big_tweet_preprocess_jlm)\n",
        "tokens_preprocess_mlp = tokenisation(one_big_tweet_preprocess_mlp)\n",
        "\n",
        "# Les 10 mots les plus communs pour chacun des politiques\n",
        "get_n_most_common_words(tokens_preprocess_jlm, 10)\n",
        "get_n_most_common_words(tokens_preprocess_mlp, 10)"
      ],
      "execution_count": null,
      "outputs": [
        {
          "output_type": "stream",
          "text": [
            "[('falloir', 428), ('y', 310), ('faire', 292), ('france', 246), ('être', 166), ('pouvoir', 151), ('vouloir', 140), ('pays', 137), ('mettre', 136), ('️', 125)]\n",
            "[('emot_video_camera', 568), ('français', 502), ('france', 343), ('être', 258), ('y', 255), ('européen', 248), ('gouvernement', 246), ('faire', 241), ('pays', 196), ('politique', 186)]\n"
          ],
          "name": "stdout"
        }
      ]
    },
    {
      "cell_type": "markdown",
      "metadata": {
        "id": "tF4dqxlPnXcy"
      },
      "source": [
        "### Nuage de mots\n",
        "\n",
        "Traçage d'un nuage de mots pour chacun des politiciens pour voir ce qui ressort"
      ]
    },
    {
      "cell_type": "code",
      "metadata": {
        "id": "fA9UVQYHPtWA"
      },
      "source": [
        "def create_wordcloud(text, nb_words):\n",
        "  wordcloud = WordCloud(max_words=nb_words, background_color=\"white\").generate(text)\n",
        "  plt.figure()\n",
        "  plt.imshow(wordcloud, interpolation=\"bilinear\")\n",
        "  plt.axis(\"off\")\n",
        "  plt.show()"
      ],
      "execution_count": null,
      "outputs": []
    },
    {
      "cell_type": "code",
      "metadata": {
        "colab": {
          "base_uri": "https://localhost:8080/",
          "height": 215
        },
        "id": "C12i7alUnWa_",
        "outputId": "2a26e3c3-4738-4b0f-80c0-08986759368f"
      },
      "source": [
        "# Wordcloud de Jean Luc Mélenchon\n",
        "\n",
        "lemat_jlm = \" \".join(df.loc[df.user_id==\"JLMelenchon\", \"preprocessed_text\"])\n",
        "print(\"Wordcloud des mots lemmatisés de l'ensemble des tweets de Jean-Luc Mélenchon\")\n",
        "create_wordcloud(lemat_jlm, 30)"
      ],
      "execution_count": null,
      "outputs": [
        {
          "output_type": "stream",
          "text": [
            "Wordcloud des mots lemmatisés de l'ensemble des tweets de Jean-Luc Mélenchon\n"
          ],
          "name": "stdout"
        },
        {
          "output_type": "display_data",
          "data": {
            "image/png": "[encoded data removed]",
            "text/plain": [
              "<Figure size 432x288 with 1 Axes>"
            ]
          },
          "metadata": {
            "tags": [],
            "needs_background": "light"
          }
        }
      ]
    },
    {
      "cell_type": "code",
      "metadata": {
        "colab": {
          "base_uri": "https://localhost:8080/",
          "height": 215
        },
        "id": "v687ugMK05Xm",
        "outputId": "8c739d9e-34cd-44e5-c077-87fa1696451d"
      },
      "source": [
        "# Wordcloud de Marie Le Pen\n",
        "\n",
        "lemat_mlp = \" \".join(df.loc[df.user_id==\"MLP_officiel\", \"preprocessed_text\"])\n",
        "print(\"Wordcloud des mots lemmatisés de l'ensemble des tweets de Marine Le Pen\")\n",
        "create_wordcloud(lemat_mlp, 30)"
      ],
      "execution_count": null,
      "outputs": [
        {
          "output_type": "stream",
          "text": [
            "Wordcloud des mots lemmatisés de l'ensemble des tweets de Marine Le Pen\n"
          ],
          "name": "stdout"
        },
        {
          "output_type": "display_data",
          "data": {
            "image/png": "[encoded data removed]",
            "text/plain": [
              "<Figure size 432x288 with 1 Axes>"
            ]
          },
          "metadata": {
            "tags": [],
            "needs_background": "light"
          }
        }
      ]
    },
    {
      "cell_type": "markdown",
      "metadata": {
        "id": "wIIsh5K3iSnx"
      },
      "source": [
        "## **4. Scattertext**\n",
        "\n",
        "Comparaison visuelle du vocabulaire utilisé par MLP et JLM. \n"
      ]
    },
    {
      "cell_type": "code",
      "metadata": {
        "id": "bUSu4Q3l1f7T"
      },
      "source": [
        "#objet corpus pour scattertext\n",
        "corpus = st.CorpusFromPandas(data_frame = df.loc[df.user_id != \"EmmanuelMacron\"],\n",
        "                             category_col = \"user_id\",\n",
        "                             text_col = \"preprocessed_text\",\n",
        "                             nlp = nlp).build().compact(st.AssociationCompactor(4000)) #On ne prend que les 4000 mots les plus importants dans le scattertext"
      ],
      "execution_count": null,
      "outputs": []
    },
    {
      "cell_type": "code",
      "metadata": {
        "id": "4pesFQuM2-gV",
        "colab": {
          "base_uri": "https://localhost:8080/"
        },
        "outputId": "ec6a291f-c1ed-4638-9f7e-d3f0237712ae"
      },
      "source": [
        "# On crée le html du scattertext\n",
        "html = st.produce_scattertext_explorer(  corpus\n",
        "                                       , category                  = 'JLMelenchon'\n",
        "                                       , category_name             = 'Jean Luc Mélenchon'\n",
        "                                       , not_category_name         = 'Marine Le Pen'\n",
        "                                       , minimum_term_frequency    = 10\n",
        "                                       , pmi_threshold_coefficient = 1\n",
        "                                       , term_ranker               = st.AbsoluteFrequencyRanker\n",
        "                                       , transform                 = st.Scalers.dense_rank\n",
        "                                       , term_scorer               = st.RankDifference() \n",
        "#on peut égalemet tester le term_scorer ScaledFscore : st.ScaledFScorePresets(beta=1, one_to_neg_one=True)\n",
        "                                       , width_in_pixels           = 1000\n",
        "                                       )\n",
        "\n",
        "# On enregistre le html\n",
        "open(\"tweets_visualisation.html\", 'wb').write(html.encode('utf-8'))"
      ],
      "execution_count": null,
      "outputs": [
        {
          "output_type": "execute_result",
          "data": {
            "text/plain": [
              "1390929"
            ]
          },
          "metadata": {
            "tags": []
          },
          "execution_count": 41
        }
      ]
    }
  ]
}