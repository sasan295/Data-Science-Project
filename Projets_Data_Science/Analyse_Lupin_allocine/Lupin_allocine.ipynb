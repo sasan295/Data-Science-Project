{
  "nbformat": 4,
  "nbformat_minor": 0,
  "metadata": {
    "colab": {
      "name": "Lupin_allocine.ipynb",
      "provenance": [],
      "collapsed_sections": [
        "oihdn-R0F9MZ",
        "PuQj60eoGDph",
        "MxjRpxXChra7",
        "oZgoZfJbGIsV",
        "8dERB0CIGTKI",
        "pUgDLBtKGb9L",
        "4rOUAL98uTrv"
      ]
    },
    "kernelspec": {
      "name": "python3",
      "display_name": "Python 3"
    }
  },
  "cells": [
    {
      "cell_type": "markdown",
      "metadata": {
        "id": "oihdn-R0F9MZ"
      },
      "source": [
        "# Import des données"
      ]
    },
    {
      "cell_type": "code",
      "metadata": {
        "id": "eBVKH7r9Cqxu"
      },
      "source": [
        "import pandas as pd\n",
        "import numpy as np"
      ],
      "execution_count": null,
      "outputs": []
    },
    {
      "cell_type": "code",
      "metadata": {
        "id": "GrocCvg_C3CN"
      },
      "source": [
        "df = pd.read_csv(\"lupin.csv\")"
      ],
      "execution_count": null,
      "outputs": []
    },
    {
      "cell_type": "markdown",
      "metadata": {
        "id": "PuQj60eoGDph"
      },
      "source": [
        "# Inspection des données"
      ]
    },
    {
      "cell_type": "code",
      "metadata": {
        "colab": {
          "base_uri": "https://localhost:8080/"
        },
        "id": "WUyaO0vMDN2L",
        "outputId": "f97635fe-e184-46e9-a07d-8acf903d8c43"
      },
      "source": [
        "df.head()"
      ],
      "execution_count": null,
      "outputs": [
        {
          "output_type": "execute_result",
          "data": {
            "text/html": [
              "<div>\n",
              "<style scoped>\n",
              "    .dataframe tbody tr th:only-of-type {\n",
              "        vertical-align: middle;\n",
              "    }\n",
              "\n",
              "    .dataframe tbody tr th {\n",
              "        vertical-align: top;\n",
              "    }\n",
              "\n",
              "    .dataframe thead th {\n",
              "        text-align: right;\n",
              "    }\n",
              "</style>\n",
              "<table border=\"1\" class=\"dataframe\">\n",
              "  <thead>\n",
              "    <tr style=\"text-align: right;\">\n",
              "      <th></th>\n",
              "      <th>Note</th>\n",
              "      <th>Description</th>\n",
              "      <th>key</th>\n",
              "    </tr>\n",
              "  </thead>\n",
              "  <tbody>\n",
              "    <tr>\n",
              "      <th>0</th>\n",
              "      <td>4,5</td>\n",
              "      <td>Les critiques négatives m’étonnent car, pour m...</td>\n",
              "      <td>0</td>\n",
              "    </tr>\n",
              "    <tr>\n",
              "      <th>1</th>\n",
              "      <td>1,5</td>\n",
              "      <td>Alors ce fameux Lupin Dans L'Ombre D'Arsène. Q...</td>\n",
              "      <td>1</td>\n",
              "    </tr>\n",
              "    <tr>\n",
              "      <th>2</th>\n",
              "      <td>4,5</td>\n",
              "      <td>Bon euh, faut pas déconner. Les gens s'acharne...</td>\n",
              "      <td>2</td>\n",
              "    </tr>\n",
              "    <tr>\n",
              "      <th>3</th>\n",
              "      <td>0,5</td>\n",
              "      <td>C'est dommage parce-que les intentions de la s...</td>\n",
              "      <td>3</td>\n",
              "    </tr>\n",
              "    <tr>\n",
              "      <th>4</th>\n",
              "      <td>0,5</td>\n",
              "      <td>Lupin par Omar SY ? on aurait le droit d'hurle...</td>\n",
              "      <td>4</td>\n",
              "    </tr>\n",
              "  </tbody>\n",
              "</table>\n",
              "</div>"
            ],
            "text/plain": [
              "  Note                                        Description  key\n",
              "0  4,5  Les critiques négatives m’étonnent car, pour m...    0\n",
              "1  1,5  Alors ce fameux Lupin Dans L'Ombre D'Arsène. Q...    1\n",
              "2  4,5  Bon euh, faut pas déconner. Les gens s'acharne...    2\n",
              "3  0,5  C'est dommage parce-que les intentions de la s...    3\n",
              "4  0,5  Lupin par Omar SY ? on aurait le droit d'hurle...    4"
            ]
          },
          "metadata": {
            "tags": []
          },
          "execution_count": 3
        }
      ]
    },
    {
      "cell_type": "code",
      "metadata": {
        "colab": {
          "base_uri": "https://localhost:8080/"
        },
        "id": "bUmfBLV-D5pm",
        "outputId": "1710a51b-41cf-4025-99b2-338c8bb9ad9b"
      },
      "source": [
        "df[\"Description\"][6]"
      ],
      "execution_count": null,
      "outputs": [
        {
          "output_type": "execute_result",
          "data": {
            "application/vnd.google.colaboratory.intrinsic+json": {
              "type": "string"
            },
            "text/plain": [
              "\"Netflix ne sais pas faire de série françaises , \\nC'est un naufrage total . C'est la pire adaptation d'Arsène Lupin , a non c'est vrai ce n'est pas Arsène Lupin mais Assane Diop un copicat lol .\\nOmar Sy en fait des tonnes pour sauver le naufrage . L'intrigue  si on peut parler d'intrigue \\nC'est téléphoné . Bref a fuir immédiatement\\nNetflix commande une seconde saison 02 il vont continuer le navet\\nGeorges Descrières est Arsène Lupin et aucun acteur ne lui arrivent à la cheville Il doit se retourner dans sa tombe\""
            ]
          },
          "metadata": {
            "tags": []
          },
          "execution_count": 4
        }
      ]
    },
    {
      "cell_type": "code",
      "metadata": {
        "colab": {
          "base_uri": "https://localhost:8080/"
        },
        "id": "0Lwypk43DRqH",
        "outputId": "23fb4ad1-eacc-4a09-a369-ac236724cc7d"
      },
      "source": [
        "df.shape\n",
        "df.isnull().sum()\n",
        "df[\"key\"].describe()"
      ],
      "execution_count": null,
      "outputs": [
        {
          "output_type": "execute_result",
          "data": {
            "text/plain": [
              "count    2630.000000\n",
              "mean        3.796578\n",
              "std         3.707967\n",
              "min         0.000000\n",
              "25%         1.000000\n",
              "50%         3.000000\n",
              "75%         4.000000\n",
              "max        14.000000\n",
              "Name: key, dtype: float64"
            ]
          },
          "metadata": {
            "tags": []
          },
          "execution_count": 5
        }
      ]
    },
    {
      "cell_type": "markdown",
      "metadata": {
        "id": "MxjRpxXChra7"
      },
      "source": [
        "# Installation de Spacy French"
      ]
    },
    {
      "cell_type": "code",
      "metadata": {
        "id": "Yj1OvD2gNdbN",
        "colab": {
          "base_uri": "https://localhost:8080/"
        },
        "outputId": "1b2ba226-ed50-4b58-c035-757703c04167"
      },
      "source": [
        "!pip install spacy"
      ],
      "execution_count": null,
      "outputs": [
        {
          "output_type": "stream",
          "text": [
            "Requirement already satisfied: spacy in /usr/local/lib/python3.7/dist-packages (2.2.4)\n",
            "Requirement already satisfied: murmurhash<1.1.0,>=0.28.0 in /usr/local/lib/python3.7/dist-packages (from spacy) (1.0.5)\n",
            "Requirement already satisfied: thinc==7.4.0 in /usr/local/lib/python3.7/dist-packages (from spacy) (7.4.0)\n",
            "Requirement already satisfied: blis<0.5.0,>=0.4.0 in /usr/local/lib/python3.7/dist-packages (from spacy) (0.4.1)\n",
            "Requirement already satisfied: plac<1.2.0,>=0.9.6 in /usr/local/lib/python3.7/dist-packages (from spacy) (1.1.3)\n",
            "Requirement already satisfied: cymem<2.1.0,>=2.0.2 in /usr/local/lib/python3.7/dist-packages (from spacy) (2.0.5)\n",
            "Requirement already satisfied: srsly<1.1.0,>=1.0.2 in /usr/local/lib/python3.7/dist-packages (from spacy) (1.0.5)\n",
            "Requirement already satisfied: catalogue<1.1.0,>=0.0.7 in /usr/local/lib/python3.7/dist-packages (from spacy) (1.0.0)\n",
            "Requirement already satisfied: requests<3.0.0,>=2.13.0 in /usr/local/lib/python3.7/dist-packages (from spacy) (2.23.0)\n",
            "Requirement already satisfied: setuptools in /usr/local/lib/python3.7/dist-packages (from spacy) (54.1.2)\n",
            "Requirement already satisfied: tqdm<5.0.0,>=4.38.0 in /usr/local/lib/python3.7/dist-packages (from spacy) (4.41.1)\n",
            "Requirement already satisfied: numpy>=1.15.0 in /usr/local/lib/python3.7/dist-packages (from spacy) (1.19.5)\n",
            "Requirement already satisfied: preshed<3.1.0,>=3.0.2 in /usr/local/lib/python3.7/dist-packages (from spacy) (3.0.5)\n",
            "Requirement already satisfied: wasabi<1.1.0,>=0.4.0 in /usr/local/lib/python3.7/dist-packages (from spacy) (0.8.2)\n",
            "Requirement already satisfied: importlib-metadata>=0.20; python_version < \"3.8\" in /usr/local/lib/python3.7/dist-packages (from catalogue<1.1.0,>=0.0.7->spacy) (3.7.2)\n",
            "Requirement already satisfied: idna<3,>=2.5 in /usr/local/lib/python3.7/dist-packages (from requests<3.0.0,>=2.13.0->spacy) (2.10)\n",
            "Requirement already satisfied: chardet<4,>=3.0.2 in /usr/local/lib/python3.7/dist-packages (from requests<3.0.0,>=2.13.0->spacy) (3.0.4)\n",
            "Requirement already satisfied: certifi>=2017.4.17 in /usr/local/lib/python3.7/dist-packages (from requests<3.0.0,>=2.13.0->spacy) (2020.12.5)\n",
            "Requirement already satisfied: urllib3!=1.25.0,!=1.25.1,<1.26,>=1.21.1 in /usr/local/lib/python3.7/dist-packages (from requests<3.0.0,>=2.13.0->spacy) (1.24.3)\n",
            "Requirement already satisfied: typing-extensions>=3.6.4; python_version < \"3.8\" in /usr/local/lib/python3.7/dist-packages (from importlib-metadata>=0.20; python_version < \"3.8\"->catalogue<1.1.0,>=0.0.7->spacy) (3.7.4.3)\n",
            "Requirement already satisfied: zipp>=0.5 in /usr/local/lib/python3.7/dist-packages (from importlib-metadata>=0.20; python_version < \"3.8\"->catalogue<1.1.0,>=0.0.7->spacy) (3.4.1)\n"
          ],
          "name": "stdout"
        }
      ]
    },
    {
      "cell_type": "code",
      "metadata": {
        "id": "eugPgIV0N6YR",
        "colab": {
          "base_uri": "https://localhost:8080/"
        },
        "outputId": "dfc41028-6da0-423e-8835-6167617568ff"
      },
      "source": [
        "!python -m spacy download fr_core_news_md"
      ],
      "execution_count": null,
      "outputs": [
        {
          "output_type": "stream",
          "text": [
            "Collecting fr_core_news_md==2.2.5\n",
            "\u001b[?25l  Downloading https://github.com/explosion/spacy-models/releases/download/fr_core_news_md-2.2.5/fr_core_news_md-2.2.5.tar.gz (88.6MB)\n",
            "\u001b[K     |████████████████████████████████| 88.6MB 1.4MB/s \n",
            "\u001b[?25hRequirement already satisfied: spacy>=2.2.2 in /usr/local/lib/python3.7/dist-packages (from fr_core_news_md==2.2.5) (2.2.4)\n",
            "Requirement already satisfied: setuptools in /usr/local/lib/python3.7/dist-packages (from spacy>=2.2.2->fr_core_news_md==2.2.5) (54.1.2)\n",
            "Requirement already satisfied: tqdm<5.0.0,>=4.38.0 in /usr/local/lib/python3.7/dist-packages (from spacy>=2.2.2->fr_core_news_md==2.2.5) (4.41.1)\n",
            "Requirement already satisfied: requests<3.0.0,>=2.13.0 in /usr/local/lib/python3.7/dist-packages (from spacy>=2.2.2->fr_core_news_md==2.2.5) (2.23.0)\n",
            "Requirement already satisfied: blis<0.5.0,>=0.4.0 in /usr/local/lib/python3.7/dist-packages (from spacy>=2.2.2->fr_core_news_md==2.2.5) (0.4.1)\n",
            "Requirement already satisfied: cymem<2.1.0,>=2.0.2 in /usr/local/lib/python3.7/dist-packages (from spacy>=2.2.2->fr_core_news_md==2.2.5) (2.0.5)\n",
            "Requirement already satisfied: thinc==7.4.0 in /usr/local/lib/python3.7/dist-packages (from spacy>=2.2.2->fr_core_news_md==2.2.5) (7.4.0)\n",
            "Requirement already satisfied: plac<1.2.0,>=0.9.6 in /usr/local/lib/python3.7/dist-packages (from spacy>=2.2.2->fr_core_news_md==2.2.5) (1.1.3)\n",
            "Requirement already satisfied: catalogue<1.1.0,>=0.0.7 in /usr/local/lib/python3.7/dist-packages (from spacy>=2.2.2->fr_core_news_md==2.2.5) (1.0.0)\n",
            "Requirement already satisfied: murmurhash<1.1.0,>=0.28.0 in /usr/local/lib/python3.7/dist-packages (from spacy>=2.2.2->fr_core_news_md==2.2.5) (1.0.5)\n",
            "Requirement already satisfied: numpy>=1.15.0 in /usr/local/lib/python3.7/dist-packages (from spacy>=2.2.2->fr_core_news_md==2.2.5) (1.19.5)\n",
            "Requirement already satisfied: srsly<1.1.0,>=1.0.2 in /usr/local/lib/python3.7/dist-packages (from spacy>=2.2.2->fr_core_news_md==2.2.5) (1.0.5)\n",
            "Requirement already satisfied: wasabi<1.1.0,>=0.4.0 in /usr/local/lib/python3.7/dist-packages (from spacy>=2.2.2->fr_core_news_md==2.2.5) (0.8.2)\n",
            "Requirement already satisfied: preshed<3.1.0,>=3.0.2 in /usr/local/lib/python3.7/dist-packages (from spacy>=2.2.2->fr_core_news_md==2.2.5) (3.0.5)\n",
            "Requirement already satisfied: certifi>=2017.4.17 in /usr/local/lib/python3.7/dist-packages (from requests<3.0.0,>=2.13.0->spacy>=2.2.2->fr_core_news_md==2.2.5) (2020.12.5)\n",
            "Requirement already satisfied: chardet<4,>=3.0.2 in /usr/local/lib/python3.7/dist-packages (from requests<3.0.0,>=2.13.0->spacy>=2.2.2->fr_core_news_md==2.2.5) (3.0.4)\n",
            "Requirement already satisfied: idna<3,>=2.5 in /usr/local/lib/python3.7/dist-packages (from requests<3.0.0,>=2.13.0->spacy>=2.2.2->fr_core_news_md==2.2.5) (2.10)\n",
            "Requirement already satisfied: urllib3!=1.25.0,!=1.25.1,<1.26,>=1.21.1 in /usr/local/lib/python3.7/dist-packages (from requests<3.0.0,>=2.13.0->spacy>=2.2.2->fr_core_news_md==2.2.5) (1.24.3)\n",
            "Requirement already satisfied: importlib-metadata>=0.20; python_version < \"3.8\" in /usr/local/lib/python3.7/dist-packages (from catalogue<1.1.0,>=0.0.7->spacy>=2.2.2->fr_core_news_md==2.2.5) (3.7.2)\n",
            "Requirement already satisfied: zipp>=0.5 in /usr/local/lib/python3.7/dist-packages (from importlib-metadata>=0.20; python_version < \"3.8\"->catalogue<1.1.0,>=0.0.7->spacy>=2.2.2->fr_core_news_md==2.2.5) (3.4.1)\n",
            "Requirement already satisfied: typing-extensions>=3.6.4; python_version < \"3.8\" in /usr/local/lib/python3.7/dist-packages (from importlib-metadata>=0.20; python_version < \"3.8\"->catalogue<1.1.0,>=0.0.7->spacy>=2.2.2->fr_core_news_md==2.2.5) (3.7.4.3)\n",
            "Building wheels for collected packages: fr-core-news-md\n",
            "  Building wheel for fr-core-news-md (setup.py) ... \u001b[?25l\u001b[?25hdone\n",
            "  Created wheel for fr-core-news-md: filename=fr_core_news_md-2.2.5-cp37-none-any.whl size=90338490 sha256=717addf2f6b4769ebaef179f07b89148c09af7b3192723122ce4cafa44fc149d\n",
            "  Stored in directory: /tmp/pip-ephem-wheel-cache-ac1usbvh/wheels/c6/18/b6/f628642acc7872a53cf81269dd1c394d96da69564ccfac5425\n",
            "Successfully built fr-core-news-md\n",
            "Installing collected packages: fr-core-news-md\n",
            "Successfully installed fr-core-news-md-2.2.5\n",
            "\u001b[38;5;2m✔ Download and installation successful\u001b[0m\n",
            "You can now load the model via spacy.load('fr_core_news_md')\n"
          ],
          "name": "stdout"
        }
      ]
    },
    {
      "cell_type": "code",
      "metadata": {
        "id": "zR7-p4HEOS_D"
      },
      "source": [
        "import spacy\n",
        "import fr_core_news_md"
      ],
      "execution_count": null,
      "outputs": []
    },
    {
      "cell_type": "code",
      "metadata": {
        "id": "H7i0ztiRNHnP"
      },
      "source": [
        "nlp = fr_core_news_md.load()"
      ],
      "execution_count": null,
      "outputs": []
    },
    {
      "cell_type": "markdown",
      "metadata": {
        "id": "oZgoZfJbGIsV"
      },
      "source": [
        "# Création des listes négatives et positives de mots"
      ]
    },
    {
      "cell_type": "code",
      "metadata": {
        "colab": {
          "base_uri": "https://localhost:8080/"
        },
        "id": "aRSH5to9OsZL",
        "outputId": "f12b7eb3-ce3a-488d-c9c2-e9a7489a2821"
      },
      "source": [
        "stopwords =  nlp.Defaults.stop_words\n",
        "negatifs_words = ['ne', 'n\\'', 'pas', 'plus', 'jamais', 'guère', 'nul', 'na', 'ni', 'mais', 'rien']\n",
        "print(len(stopwords))\n",
        "positif_stopwords = [x for x in stopwords if x not in negatifs_words]\n",
        "print(len(positif_stopwords))"
      ],
      "execution_count": null,
      "outputs": [
        {
          "output_type": "stream",
          "text": [
            "600\n",
            "591\n"
          ],
          "name": "stdout"
        }
      ]
    },
    {
      "cell_type": "code",
      "metadata": {
        "id": "JwzHKXu8019L"
      },
      "source": [
        "#Remplace les virgules par des points\n",
        "df[\"Note\"] = [x.replace(\",\",\".\") for x in df[\"Note\"]]"
      ],
      "execution_count": null,
      "outputs": []
    },
    {
      "cell_type": "markdown",
      "metadata": {
        "id": "8dERB0CIGTKI"
      },
      "source": [
        "# Variable Target"
      ]
    },
    {
      "cell_type": "code",
      "metadata": {
        "id": "3t92W_bOSGjg"
      },
      "source": [
        "#Construction de la variable Target. Conversion des notes en variables binaires\n",
        "df[\"Target\"] = df.Note.apply(lambda x: 1 if float(x) > 2.5 else 0)"
      ],
      "execution_count": null,
      "outputs": []
    },
    {
      "cell_type": "code",
      "metadata": {
        "id": "z0IQseeq15RT"
      },
      "source": [
        "df[\"Negatifs\"] = df.Description.apply(lambda x: 0 if x.lower() in negatifs_words else 1)\n",
        "#df[\"Positifs\"] = [x for x in df[\"Description\"] if x.lower() not in negatifs_words]"
      ],
      "execution_count": null,
      "outputs": []
    },
    {
      "cell_type": "code",
      "metadata": {
        "colab": {
          "base_uri": "https://localhost:8080/"
        },
        "id": "Pe2aVKfg4V8I",
        "outputId": "995d1bf3-e0dc-436c-d829-7831089ba20e"
      },
      "source": [
        "df[\"Negatifs\"][0:5]"
      ],
      "execution_count": null,
      "outputs": [
        {
          "output_type": "execute_result",
          "data": {
            "text/plain": [
              "0    1\n",
              "1    1\n",
              "2    1\n",
              "3    1\n",
              "4    1\n",
              "Name: Negatifs, dtype: int64"
            ]
          },
          "metadata": {
            "tags": []
          },
          "execution_count": 14
        }
      ]
    },
    {
      "cell_type": "markdown",
      "metadata": {
        "id": "pUgDLBtKGb9L"
      },
      "source": [
        "# Naïf Bayes avec sklearn"
      ]
    },
    {
      "cell_type": "code",
      "metadata": {
        "colab": {
          "base_uri": "https://localhost:8080/"
        },
        "id": "G3LvQx5ULLFm",
        "outputId": "12e1b142-3159-4abd-a7ef-8840940dce1b"
      },
      "source": [
        "df[\"Description\"]"
      ],
      "execution_count": null,
      "outputs": [
        {
          "output_type": "execute_result",
          "data": {
            "text/plain": [
              "0       Les critiques négatives m’étonnent car, pour m...\n",
              "1       Alors ce fameux Lupin Dans L'Ombre D'Arsène. Q...\n",
              "2       Bon euh, faut pas déconner. Les gens s'acharne...\n",
              "3       C'est dommage parce-que les intentions de la s...\n",
              "4       Lupin par Omar SY ? on aurait le droit d'hurle...\n",
              "                              ...                        \n",
              "2625    La série est super, très intriguante avec un p...\n",
              "2626    Le jeu d'acteurs est si mauvais que ça en devi...\n",
              "2627    Jeu de l’acteur principal catastrophique c’est...\n",
              "2628    Moderniser la saga de Leblanc pourquoi pas apr...\n",
              "2629    Franchement le scénario est tiré ar les cheveu...\n",
              "Name: Description, Length: 2630, dtype: object"
            ]
          },
          "metadata": {
            "tags": []
          },
          "execution_count": 15
        }
      ]
    },
    {
      "cell_type": "code",
      "metadata": {
        "id": "LIZoIKdNHG81"
      },
      "source": [
        "from sklearn.model_selection import train_test_split\n",
        "from sklearn.naive_bayes import GaussianNB\n",
        "from sklearn.feature_extraction.text import CountVectorizer"
      ],
      "execution_count": null,
      "outputs": []
    },
    {
      "cell_type": "code",
      "metadata": {
        "id": "nBt5BRZUPrFu"
      },
      "source": [
        "df2 = df.copy()"
      ],
      "execution_count": null,
      "outputs": []
    },
    {
      "cell_type": "code",
      "metadata": {
        "id": "SLQCWh6MFLJC"
      },
      "source": [
        "X = df2[\"Description\"]\n",
        "y = df2[\"Target\"]\n",
        "X_train, X_test, y_train, y_test = train_test_split(X, y, test_size=0.3, random_state=42)"
      ],
      "execution_count": null,
      "outputs": []
    },
    {
      "cell_type": "code",
      "metadata": {
        "id": "TpIZh55ZBSU3"
      },
      "source": [
        "CV = CountVectorizer()\n",
        "CV.fit(X)\n",
        "X_train_v = CV.transform(X_train)\n",
        "X_test_v = CV.transform(X_test)"
      ],
      "execution_count": null,
      "outputs": []
    },
    {
      "cell_type": "code",
      "metadata": {
        "id": "Lv82V7J2YHOn"
      },
      "source": [
        "gnb = GaussianNB()\n",
        "gnb_1 = gnb.fit(X_train_v.toarray(), y_train)#.predict(X_test_v.toarray())"
      ],
      "execution_count": null,
      "outputs": []
    },
    {
      "cell_type": "code",
      "metadata": {
        "colab": {
          "base_uri": "https://localhost:8080/"
        },
        "id": "jfSh1l0ZbKNn",
        "outputId": "92dde245-4190-4b12-eb41-e84aa6f73bf0"
      },
      "source": [
        "#Résultats des data train et test\n",
        "print(f\"Score du Train set = {gnb_1.score(X_train_v.toarray(), y_train)}\", \"\\n\",\\\n",
        "      f\"Score du Test set = {gnb_1.score(X_test_v.toarray(), y_test)}\")"
      ],
      "execution_count": null,
      "outputs": [
        {
          "output_type": "stream",
          "text": [
            "Score du Train set = 0.9875067897881586 \n",
            " Score du Test set = 0.9391634980988594\n"
          ],
          "name": "stdout"
        }
      ]
    },
    {
      "cell_type": "markdown",
      "metadata": {
        "id": "4rOUAL98uTrv"
      },
      "source": [
        "# Régression logistique"
      ]
    },
    {
      "cell_type": "code",
      "metadata": {
        "id": "Dj9C-bn1uWwu"
      },
      "source": [
        "from sklearn.linear_model import LogisticRegression"
      ],
      "execution_count": null,
      "outputs": []
    },
    {
      "cell_type": "code",
      "metadata": {
        "id": "_HJnZaETf9zd"
      },
      "source": [
        "RL = LogisticRegression()\n",
        "RL_1 = RL.fit(X_train_v, y_train)"
      ],
      "execution_count": null,
      "outputs": []
    },
    {
      "cell_type": "code",
      "metadata": {
        "colab": {
          "base_uri": "https://localhost:8080/"
        },
        "id": "rjkCIV5Fg80y",
        "outputId": "0ea189ee-0226-49bf-8520-178c0bc15219"
      },
      "source": [
        "#Résultats des data train et test\n",
        "print(f\"Score du Train set = {RL_1.score(X_train_v, y_train)}\", \"\\n\",\\\n",
        "      f\"Score du Test set = {RL_1.score(X_test_v, y_test)}\")"
      ],
      "execution_count": null,
      "outputs": [
        {
          "output_type": "stream",
          "text": [
            "Score du Train set = 0.9994568169473113 \n",
            " Score du Test set = 0.9708491761723701\n"
          ],
          "name": "stdout"
        }
      ]
    }
  ]
}