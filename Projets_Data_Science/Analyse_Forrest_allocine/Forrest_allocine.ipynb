{
  "nbformat": 4,
  "nbformat_minor": 0,
  "metadata": {
    "colab": {
      "name": "Celina_ABIDI_NLP.ipynb",
      "provenance": [],
      "collapsed_sections": [
        "9jS7qawKjLFO",
        "sEVawGnktASW",
        "cSPM9T5rk743",
        "1oQ3p9ntjZSV",
        "G8SFiIAkka7u",
        "qUvIhkr0lnCU",
        "u-1MKtQAsK5T",
        "O5w-2n-Duwr7",
        "5ErR5kk-wG6z",
        "fXXKNPpZwKnN",
        "DiG1GABHxKTw",
        "QX9CWHpg23ZG"
      ]
    },
    "kernelspec": {
      "name": "python3",
      "display_name": "Python 3"
    },
    "language_info": {
      "name": "python"
    }
  },
  "cells": [
    {
      "cell_type": "markdown",
      "metadata": {
        "id": "9jS7qawKjLFO"
      },
      "source": [
        "# Import des données\n",
        "\n"
      ]
    },
    {
      "cell_type": "code",
      "metadata": {
        "id": "L9hdnN-2g1Qx"
      },
      "source": [
        "import pandas as pd"
      ],
      "execution_count": 413,
      "outputs": []
    },
    {
      "cell_type": "code",
      "metadata": {
        "id": "bXO5ZieShfXd"
      },
      "source": [
        "df = pd.read_csv(\"allocine_forrest_avis.csv\")"
      ],
      "execution_count": 414,
      "outputs": []
    },
    {
      "cell_type": "markdown",
      "metadata": {
        "id": "sEVawGnktASW"
      },
      "source": [
        "# Inspection des données"
      ]
    },
    {
      "cell_type": "code",
      "metadata": {
        "colab": {
          "base_uri": "https://localhost:8080/",
          "height": 0
        },
        "id": "H_W0PcGShm88",
        "outputId": "426bdb84-724f-4525-c5d3-a1dfbaeb9db7"
      },
      "source": [
        "df.head()\n",
        "df.shape\n",
        "df.info()\n",
        "df.isnull().sum()\n",
        "df.describe(include=\"all\")"
      ],
      "execution_count": 415,
      "outputs": [
        {
          "output_type": "stream",
          "text": [
            "<class 'pandas.core.frame.DataFrame'>\n",
            "RangeIndex: 2009 entries, 0 to 2008\n",
            "Data columns (total 6 columns):\n",
            " #   Column           Non-Null Count  Dtype \n",
            "---  ------           --------------  ----- \n",
            " 0   Note             2009 non-null   object\n",
            " 1   Description      2009 non-null   object\n",
            " 2   Date             2009 non-null   object\n",
            " 3   nombre_good_bad  2009 non-null   object\n",
            " 4   nombre_follow    2009 non-null   object\n",
            " 5   key              2009 non-null   int64 \n",
            "dtypes: int64(1), object(5)\n",
            "memory usage: 94.3+ KB\n"
          ],
          "name": "stdout"
        },
        {
          "output_type": "execute_result",
          "data": {
            "text/html": [
              "<div>\n",
              "<style scoped>\n",
              "    .dataframe tbody tr th:only-of-type {\n",
              "        vertical-align: middle;\n",
              "    }\n",
              "\n",
              "    .dataframe tbody tr th {\n",
              "        vertical-align: top;\n",
              "    }\n",
              "\n",
              "    .dataframe thead th {\n",
              "        text-align: right;\n",
              "    }\n",
              "</style>\n",
              "<table border=\"1\" class=\"dataframe\">\n",
              "  <thead>\n",
              "    <tr style=\"text-align: right;\">\n",
              "      <th></th>\n",
              "      <th>Note</th>\n",
              "      <th>Description</th>\n",
              "      <th>Date</th>\n",
              "      <th>nombre_good_bad</th>\n",
              "      <th>nombre_follow</th>\n",
              "      <th>key</th>\n",
              "    </tr>\n",
              "  </thead>\n",
              "  <tbody>\n",
              "    <tr>\n",
              "      <th>count</th>\n",
              "      <td>2009</td>\n",
              "      <td>2009</td>\n",
              "      <td>2009</td>\n",
              "      <td>2009</td>\n",
              "      <td>2009</td>\n",
              "      <td>2009.000000</td>\n",
              "    </tr>\n",
              "    <tr>\n",
              "      <th>unique</th>\n",
              "      <td>10</td>\n",
              "      <td>2002</td>\n",
              "      <td>1484</td>\n",
              "      <td>78</td>\n",
              "      <td>1</td>\n",
              "      <td>NaN</td>\n",
              "    </tr>\n",
              "    <tr>\n",
              "      <th>top</th>\n",
              "      <td>5,0</td>\n",
              "      <td>Beau, triste, émouvant, joyeux, magique et env...</td>\n",
              "      <td>Publiée le 29 septembre 2006</td>\n",
              "      <td>0\\n        \\n\\n    \\n\\n    \\n    \\n           ...</td>\n",
              "      <td>Suivre son activité</td>\n",
              "      <td>NaN</td>\n",
              "    </tr>\n",
              "    <tr>\n",
              "      <th>freq</th>\n",
              "      <td>1440</td>\n",
              "      <td>2</td>\n",
              "      <td>63</td>\n",
              "      <td>1494</td>\n",
              "      <td>2009</td>\n",
              "      <td>NaN</td>\n",
              "    </tr>\n",
              "    <tr>\n",
              "      <th>mean</th>\n",
              "      <td>NaN</td>\n",
              "      <td>NaN</td>\n",
              "      <td>NaN</td>\n",
              "      <td>NaN</td>\n",
              "      <td>NaN</td>\n",
              "      <td>6.698855</td>\n",
              "    </tr>\n",
              "    <tr>\n",
              "      <th>std</th>\n",
              "      <td>NaN</td>\n",
              "      <td>NaN</td>\n",
              "      <td>NaN</td>\n",
              "      <td>NaN</td>\n",
              "      <td>NaN</td>\n",
              "      <td>4.172620</td>\n",
              "    </tr>\n",
              "    <tr>\n",
              "      <th>min</th>\n",
              "      <td>NaN</td>\n",
              "      <td>NaN</td>\n",
              "      <td>NaN</td>\n",
              "      <td>NaN</td>\n",
              "      <td>NaN</td>\n",
              "      <td>0.000000</td>\n",
              "    </tr>\n",
              "    <tr>\n",
              "      <th>25%</th>\n",
              "      <td>NaN</td>\n",
              "      <td>NaN</td>\n",
              "      <td>NaN</td>\n",
              "      <td>NaN</td>\n",
              "      <td>NaN</td>\n",
              "      <td>3.000000</td>\n",
              "    </tr>\n",
              "    <tr>\n",
              "      <th>50%</th>\n",
              "      <td>NaN</td>\n",
              "      <td>NaN</td>\n",
              "      <td>NaN</td>\n",
              "      <td>NaN</td>\n",
              "      <td>NaN</td>\n",
              "      <td>7.000000</td>\n",
              "    </tr>\n",
              "    <tr>\n",
              "      <th>75%</th>\n",
              "      <td>NaN</td>\n",
              "      <td>NaN</td>\n",
              "      <td>NaN</td>\n",
              "      <td>NaN</td>\n",
              "      <td>NaN</td>\n",
              "      <td>10.000000</td>\n",
              "    </tr>\n",
              "    <tr>\n",
              "      <th>max</th>\n",
              "      <td>NaN</td>\n",
              "      <td>NaN</td>\n",
              "      <td>NaN</td>\n",
              "      <td>NaN</td>\n",
              "      <td>NaN</td>\n",
              "      <td>14.000000</td>\n",
              "    </tr>\n",
              "  </tbody>\n",
              "</table>\n",
              "</div>"
            ],
            "text/plain": [
              "        Note  ...          key\n",
              "count   2009  ...  2009.000000\n",
              "unique    10  ...          NaN\n",
              "top      5,0  ...          NaN\n",
              "freq    1440  ...          NaN\n",
              "mean     NaN  ...     6.698855\n",
              "std      NaN  ...     4.172620\n",
              "min      NaN  ...     0.000000\n",
              "25%      NaN  ...     3.000000\n",
              "50%      NaN  ...     7.000000\n",
              "75%      NaN  ...    10.000000\n",
              "max      NaN  ...    14.000000\n",
              "\n",
              "[11 rows x 6 columns]"
            ]
          },
          "metadata": {
            "tags": []
          },
          "execution_count": 415
        }
      ]
    },
    {
      "cell_type": "code",
      "metadata": {
        "colab": {
          "base_uri": "https://localhost:8080/",
          "height": 0
        },
        "id": "GrYgtuPoi8E3",
        "outputId": "bd4c1e65-0c8a-4f0a-a7ec-114ce053f4e1"
      },
      "source": [
        "df.head()"
      ],
      "execution_count": 416,
      "outputs": [
        {
          "output_type": "execute_result",
          "data": {
            "text/html": [
              "<div>\n",
              "<style scoped>\n",
              "    .dataframe tbody tr th:only-of-type {\n",
              "        vertical-align: middle;\n",
              "    }\n",
              "\n",
              "    .dataframe tbody tr th {\n",
              "        vertical-align: top;\n",
              "    }\n",
              "\n",
              "    .dataframe thead th {\n",
              "        text-align: right;\n",
              "    }\n",
              "</style>\n",
              "<table border=\"1\" class=\"dataframe\">\n",
              "  <thead>\n",
              "    <tr style=\"text-align: right;\">\n",
              "      <th></th>\n",
              "      <th>Note</th>\n",
              "      <th>Description</th>\n",
              "      <th>Date</th>\n",
              "      <th>nombre_good_bad</th>\n",
              "      <th>nombre_follow</th>\n",
              "      <th>key</th>\n",
              "    </tr>\n",
              "  </thead>\n",
              "  <tbody>\n",
              "    <tr>\n",
              "      <th>0</th>\n",
              "      <td>5,0</td>\n",
              "      <td>Forrest Gump de Robert Zemeckis (réalisateur d...</td>\n",
              "      <td>Publiée le 8 avril 2013</td>\n",
              "      <td>155\\n        \\n\\n    \\n\\n    \\n    \\n         ...</td>\n",
              "      <td>Suivre son activité</td>\n",
              "      <td>0</td>\n",
              "    </tr>\n",
              "    <tr>\n",
              "      <th>1</th>\n",
              "      <td>4,5</td>\n",
              "      <td>Une immense rèussite du cinèma hollywoodien! R...</td>\n",
              "      <td>Publiée le 25 juillet 2019</td>\n",
              "      <td>42\\n        \\n\\n    \\n\\n    \\n    \\n          ...</td>\n",
              "      <td>Suivre son activité</td>\n",
              "      <td>1</td>\n",
              "    </tr>\n",
              "    <tr>\n",
              "      <th>2</th>\n",
              "      <td>5,0</td>\n",
              "      <td>Le matin, quand il fait bon et beau, normal qu...</td>\n",
              "      <td>Publiée le 18 juillet 2014</td>\n",
              "      <td>39\\n        \\n\\n    \\n\\n    \\n    \\n          ...</td>\n",
              "      <td>Suivre son activité</td>\n",
              "      <td>2</td>\n",
              "    </tr>\n",
              "    <tr>\n",
              "      <th>3</th>\n",
              "      <td>5,0</td>\n",
              "      <td>Un film immense, rempli de poésie et de bons s...</td>\n",
              "      <td>Publiée le 13 juin 2010</td>\n",
              "      <td>46\\n        \\n\\n    \\n\\n    \\n    \\n          ...</td>\n",
              "      <td>Suivre son activité</td>\n",
              "      <td>3</td>\n",
              "    </tr>\n",
              "    <tr>\n",
              "      <th>4</th>\n",
              "      <td>5,0</td>\n",
              "      <td>Un très grand film . Ce film suit la vie sur p...</td>\n",
              "      <td>Publiée le 18 août 2014</td>\n",
              "      <td>28\\n        \\n\\n    \\n\\n    \\n    \\n          ...</td>\n",
              "      <td>Suivre son activité</td>\n",
              "      <td>4</td>\n",
              "    </tr>\n",
              "  </tbody>\n",
              "</table>\n",
              "</div>"
            ],
            "text/plain": [
              "  Note  ... key\n",
              "0  5,0  ...   0\n",
              "1  4,5  ...   1\n",
              "2  5,0  ...   2\n",
              "3  5,0  ...   3\n",
              "4  5,0  ...   4\n",
              "\n",
              "[5 rows x 6 columns]"
            ]
          },
          "metadata": {
            "tags": []
          },
          "execution_count": 416
        }
      ]
    },
    {
      "cell_type": "code",
      "metadata": {
        "id": "W8Ou2v6IhqwK"
      },
      "source": [
        "# Note à mettre en float\n",
        "# Nous avons qu'une seule note --> 5\n",
        "# Date à convertir\n",
        "# split nb good et bad en 2 colonnes\n",
        "# key inutile car même que indice\n",
        "# nombre_follow inutile car même donnée pour toutes les lignes"
      ],
      "execution_count": 417,
      "outputs": []
    },
    {
      "cell_type": "markdown",
      "metadata": {
        "id": "R2GWw4oojKAk"
      },
      "source": [
        "# Préparation de la donnée"
      ]
    },
    {
      "cell_type": "markdown",
      "metadata": {
        "id": "cSPM9T5rk743"
      },
      "source": [
        "## Suppression des colonnes key et nombre_follow"
      ]
    },
    {
      "cell_type": "code",
      "metadata": {
        "colab": {
          "base_uri": "https://localhost:8080/"
        },
        "id": "N26e0YB4k7Is",
        "outputId": "0f8bc86f-dba7-4ab5-bc0f-a515faf781ce"
      },
      "source": [
        "df.pop(\"key\")\n",
        "df.pop(\"nombre_follow\")"
      ],
      "execution_count": 418,
      "outputs": [
        {
          "output_type": "execute_result",
          "data": {
            "text/plain": [
              "0       Suivre son activité\n",
              "1       Suivre son activité\n",
              "2       Suivre son activité\n",
              "3       Suivre son activité\n",
              "4       Suivre son activité\n",
              "               ...         \n",
              "2004    Suivre son activité\n",
              "2005    Suivre son activité\n",
              "2006    Suivre son activité\n",
              "2007    Suivre son activité\n",
              "2008    Suivre son activité\n",
              "Name: nombre_follow, Length: 2009, dtype: object"
            ]
          },
          "metadata": {
            "tags": []
          },
          "execution_count": 418
        }
      ]
    },
    {
      "cell_type": "code",
      "metadata": {
        "colab": {
          "base_uri": "https://localhost:8080/",
          "height": 0
        },
        "id": "Una2HBKTlIng",
        "outputId": "821fe4e5-8383-4ef5-cd90-e6050a8414cb"
      },
      "source": [
        "df.head()"
      ],
      "execution_count": 419,
      "outputs": [
        {
          "output_type": "execute_result",
          "data": {
            "text/html": [
              "<div>\n",
              "<style scoped>\n",
              "    .dataframe tbody tr th:only-of-type {\n",
              "        vertical-align: middle;\n",
              "    }\n",
              "\n",
              "    .dataframe tbody tr th {\n",
              "        vertical-align: top;\n",
              "    }\n",
              "\n",
              "    .dataframe thead th {\n",
              "        text-align: right;\n",
              "    }\n",
              "</style>\n",
              "<table border=\"1\" class=\"dataframe\">\n",
              "  <thead>\n",
              "    <tr style=\"text-align: right;\">\n",
              "      <th></th>\n",
              "      <th>Note</th>\n",
              "      <th>Description</th>\n",
              "      <th>Date</th>\n",
              "      <th>nombre_good_bad</th>\n",
              "    </tr>\n",
              "  </thead>\n",
              "  <tbody>\n",
              "    <tr>\n",
              "      <th>0</th>\n",
              "      <td>5,0</td>\n",
              "      <td>Forrest Gump de Robert Zemeckis (réalisateur d...</td>\n",
              "      <td>Publiée le 8 avril 2013</td>\n",
              "      <td>155\\n        \\n\\n    \\n\\n    \\n    \\n         ...</td>\n",
              "    </tr>\n",
              "    <tr>\n",
              "      <th>1</th>\n",
              "      <td>4,5</td>\n",
              "      <td>Une immense rèussite du cinèma hollywoodien! R...</td>\n",
              "      <td>Publiée le 25 juillet 2019</td>\n",
              "      <td>42\\n        \\n\\n    \\n\\n    \\n    \\n          ...</td>\n",
              "    </tr>\n",
              "    <tr>\n",
              "      <th>2</th>\n",
              "      <td>5,0</td>\n",
              "      <td>Le matin, quand il fait bon et beau, normal qu...</td>\n",
              "      <td>Publiée le 18 juillet 2014</td>\n",
              "      <td>39\\n        \\n\\n    \\n\\n    \\n    \\n          ...</td>\n",
              "    </tr>\n",
              "    <tr>\n",
              "      <th>3</th>\n",
              "      <td>5,0</td>\n",
              "      <td>Un film immense, rempli de poésie et de bons s...</td>\n",
              "      <td>Publiée le 13 juin 2010</td>\n",
              "      <td>46\\n        \\n\\n    \\n\\n    \\n    \\n          ...</td>\n",
              "    </tr>\n",
              "    <tr>\n",
              "      <th>4</th>\n",
              "      <td>5,0</td>\n",
              "      <td>Un très grand film . Ce film suit la vie sur p...</td>\n",
              "      <td>Publiée le 18 août 2014</td>\n",
              "      <td>28\\n        \\n\\n    \\n\\n    \\n    \\n          ...</td>\n",
              "    </tr>\n",
              "  </tbody>\n",
              "</table>\n",
              "</div>"
            ],
            "text/plain": [
              "  Note  ...                                    nombre_good_bad\n",
              "0  5,0  ...  155\\n        \\n\\n    \\n\\n    \\n    \\n         ...\n",
              "1  4,5  ...  42\\n        \\n\\n    \\n\\n    \\n    \\n          ...\n",
              "2  5,0  ...  39\\n        \\n\\n    \\n\\n    \\n    \\n          ...\n",
              "3  5,0  ...  46\\n        \\n\\n    \\n\\n    \\n    \\n          ...\n",
              "4  5,0  ...  28\\n        \\n\\n    \\n\\n    \\n    \\n          ...\n",
              "\n",
              "[5 rows x 4 columns]"
            ]
          },
          "metadata": {
            "tags": []
          },
          "execution_count": 419
        }
      ]
    },
    {
      "cell_type": "markdown",
      "metadata": {
        "id": "1oQ3p9ntjZSV"
      },
      "source": [
        "## Conversion df[\"Note\"] en float"
      ]
    },
    {
      "cell_type": "code",
      "metadata": {
        "id": "2KnB90h0jYZs"
      },
      "source": [
        "for i in df[\"Note\"]:\n",
        "  df[\"Note\"] = i.replace(\",\", \".\")"
      ],
      "execution_count": 420,
      "outputs": []
    },
    {
      "cell_type": "code",
      "metadata": {
        "colab": {
          "base_uri": "https://localhost:8080/"
        },
        "id": "rhy8oDCpjzRq",
        "outputId": "02d40e0a-b8fa-4be6-feeb-97f7c93fba37"
      },
      "source": [
        "df[\"Note\"]\n",
        "type(df[\"Note\"][0])"
      ],
      "execution_count": 421,
      "outputs": [
        {
          "output_type": "execute_result",
          "data": {
            "text/plain": [
              "str"
            ]
          },
          "metadata": {
            "tags": []
          },
          "execution_count": 421
        }
      ]
    },
    {
      "cell_type": "markdown",
      "metadata": {
        "id": "G8SFiIAkka7u"
      },
      "source": [
        "## Conversion de la date"
      ]
    },
    {
      "cell_type": "code",
      "metadata": {
        "id": "V4r8lkq-kfsw"
      },
      "source": [
        "from datetime import datetime"
      ],
      "execution_count": 422,
      "outputs": []
    },
    {
      "cell_type": "code",
      "metadata": {
        "colab": {
          "base_uri": "https://localhost:8080/",
          "height": 0
        },
        "id": "Z5XsHRdTkkXP",
        "outputId": "fb4888bc-1a22-4389-99bc-c41a4e16303d"
      },
      "source": [
        "df.head()"
      ],
      "execution_count": 423,
      "outputs": [
        {
          "output_type": "execute_result",
          "data": {
            "text/html": [
              "<div>\n",
              "<style scoped>\n",
              "    .dataframe tbody tr th:only-of-type {\n",
              "        vertical-align: middle;\n",
              "    }\n",
              "\n",
              "    .dataframe tbody tr th {\n",
              "        vertical-align: top;\n",
              "    }\n",
              "\n",
              "    .dataframe thead th {\n",
              "        text-align: right;\n",
              "    }\n",
              "</style>\n",
              "<table border=\"1\" class=\"dataframe\">\n",
              "  <thead>\n",
              "    <tr style=\"text-align: right;\">\n",
              "      <th></th>\n",
              "      <th>Note</th>\n",
              "      <th>Description</th>\n",
              "      <th>Date</th>\n",
              "      <th>nombre_good_bad</th>\n",
              "    </tr>\n",
              "  </thead>\n",
              "  <tbody>\n",
              "    <tr>\n",
              "      <th>0</th>\n",
              "      <td>5.0</td>\n",
              "      <td>Forrest Gump de Robert Zemeckis (réalisateur d...</td>\n",
              "      <td>Publiée le 8 avril 2013</td>\n",
              "      <td>155\\n        \\n\\n    \\n\\n    \\n    \\n         ...</td>\n",
              "    </tr>\n",
              "    <tr>\n",
              "      <th>1</th>\n",
              "      <td>5.0</td>\n",
              "      <td>Une immense rèussite du cinèma hollywoodien! R...</td>\n",
              "      <td>Publiée le 25 juillet 2019</td>\n",
              "      <td>42\\n        \\n\\n    \\n\\n    \\n    \\n          ...</td>\n",
              "    </tr>\n",
              "    <tr>\n",
              "      <th>2</th>\n",
              "      <td>5.0</td>\n",
              "      <td>Le matin, quand il fait bon et beau, normal qu...</td>\n",
              "      <td>Publiée le 18 juillet 2014</td>\n",
              "      <td>39\\n        \\n\\n    \\n\\n    \\n    \\n          ...</td>\n",
              "    </tr>\n",
              "    <tr>\n",
              "      <th>3</th>\n",
              "      <td>5.0</td>\n",
              "      <td>Un film immense, rempli de poésie et de bons s...</td>\n",
              "      <td>Publiée le 13 juin 2010</td>\n",
              "      <td>46\\n        \\n\\n    \\n\\n    \\n    \\n          ...</td>\n",
              "    </tr>\n",
              "    <tr>\n",
              "      <th>4</th>\n",
              "      <td>5.0</td>\n",
              "      <td>Un très grand film . Ce film suit la vie sur p...</td>\n",
              "      <td>Publiée le 18 août 2014</td>\n",
              "      <td>28\\n        \\n\\n    \\n\\n    \\n    \\n          ...</td>\n",
              "    </tr>\n",
              "  </tbody>\n",
              "</table>\n",
              "</div>"
            ],
            "text/plain": [
              "  Note  ...                                    nombre_good_bad\n",
              "0  5.0  ...  155\\n        \\n\\n    \\n\\n    \\n    \\n         ...\n",
              "1  5.0  ...  42\\n        \\n\\n    \\n\\n    \\n    \\n          ...\n",
              "2  5.0  ...  39\\n        \\n\\n    \\n\\n    \\n    \\n          ...\n",
              "3  5.0  ...  46\\n        \\n\\n    \\n\\n    \\n    \\n          ...\n",
              "4  5.0  ...  28\\n        \\n\\n    \\n\\n    \\n    \\n          ...\n",
              "\n",
              "[5 rows x 4 columns]"
            ]
          },
          "metadata": {
            "tags": []
          },
          "execution_count": 423
        }
      ]
    },
    {
      "cell_type": "markdown",
      "metadata": {
        "id": "qUvIhkr0lnCU"
      },
      "source": [
        "## Division de la colonne nombre_good_bad en deux"
      ]
    },
    {
      "cell_type": "code",
      "metadata": {
        "id": "I_TchEUdplC2"
      },
      "source": [
        "df2 = df.copy()\n",
        "df2[\"good\"] = \"\"\n",
        "df2[\"bad\"] = \"\""
      ],
      "execution_count": 424,
      "outputs": []
    },
    {
      "cell_type": "code",
      "metadata": {
        "colab": {
          "base_uri": "https://localhost:8080/",
          "height": 0
        },
        "id": "MQupv-SplyA4",
        "outputId": "b3cff221-869d-4361-b79a-16bdaf66b8c6"
      },
      "source": [
        "df2[\"nombre_good_bad\"][5].split(\" \")[0]"
      ],
      "execution_count": 425,
      "outputs": [
        {
          "output_type": "execute_result",
          "data": {
            "application/vnd.google.colaboratory.intrinsic+json": {
              "type": "string"
            },
            "text/plain": [
              "'23\\n'"
            ]
          },
          "metadata": {
            "tags": []
          },
          "execution_count": 425
        }
      ]
    },
    {
      "cell_type": "code",
      "metadata": {
        "id": "FPfgR9Grl1Zb"
      },
      "source": [
        "for k in range(len(df)):\n",
        "  numbers = []\n",
        "  df2[\"nombre_good_bad\"][k] = df2[\"nombre_good_bad\"][k].split(\" \")\n",
        "  df2[\"good\"][k] = df2[\"nombre_good_bad\"][k][0]\n",
        "  df2[\"bad\"][k] = df2[\"nombre_good_bad\"][k][-1]"
      ],
      "execution_count": 426,
      "outputs": []
    },
    {
      "cell_type": "code",
      "metadata": {
        "id": "sdwAwmr9qoj0"
      },
      "source": [
        "# Cleaning de la colonne \"good\"\n",
        "for i in df2[\"good\"]:\n",
        "  liste = i.split(\"\\n\")\n",
        "  df2[\"good\"] = liste[0] "
      ],
      "execution_count": 427,
      "outputs": []
    },
    {
      "cell_type": "code",
      "metadata": {
        "colab": {
          "base_uri": "https://localhost:8080/",
          "height": 0
        },
        "id": "qDV0gbdHnR_Z",
        "outputId": "b05430af-f4a2-42f8-de12-8c92f7b8c304"
      },
      "source": [
        "df2.head()"
      ],
      "execution_count": 428,
      "outputs": [
        {
          "output_type": "execute_result",
          "data": {
            "text/html": [
              "<div>\n",
              "<style scoped>\n",
              "    .dataframe tbody tr th:only-of-type {\n",
              "        vertical-align: middle;\n",
              "    }\n",
              "\n",
              "    .dataframe tbody tr th {\n",
              "        vertical-align: top;\n",
              "    }\n",
              "\n",
              "    .dataframe thead th {\n",
              "        text-align: right;\n",
              "    }\n",
              "</style>\n",
              "<table border=\"1\" class=\"dataframe\">\n",
              "  <thead>\n",
              "    <tr style=\"text-align: right;\">\n",
              "      <th></th>\n",
              "      <th>Note</th>\n",
              "      <th>Description</th>\n",
              "      <th>Date</th>\n",
              "      <th>nombre_good_bad</th>\n",
              "      <th>good</th>\n",
              "      <th>bad</th>\n",
              "    </tr>\n",
              "  </thead>\n",
              "  <tbody>\n",
              "    <tr>\n",
              "      <th>0</th>\n",
              "      <td>5.0</td>\n",
              "      <td>Forrest Gump de Robert Zemeckis (réalisateur d...</td>\n",
              "      <td>Publiée le 8 avril 2013</td>\n",
              "      <td>[155\\n, , , , , , , , \\n\\n, , , , \\n\\n, , , , ...</td>\n",
              "      <td>155</td>\n",
              "      <td>10</td>\n",
              "    </tr>\n",
              "    <tr>\n",
              "      <th>1</th>\n",
              "      <td>5.0</td>\n",
              "      <td>Une immense rèussite du cinèma hollywoodien! R...</td>\n",
              "      <td>Publiée le 25 juillet 2019</td>\n",
              "      <td>[42\\n, , , , , , , , \\n\\n, , , , \\n\\n, , , , \\...</td>\n",
              "      <td>155</td>\n",
              "      <td>3</td>\n",
              "    </tr>\n",
              "    <tr>\n",
              "      <th>2</th>\n",
              "      <td>5.0</td>\n",
              "      <td>Le matin, quand il fait bon et beau, normal qu...</td>\n",
              "      <td>Publiée le 18 juillet 2014</td>\n",
              "      <td>[39\\n, , , , , , , , \\n\\n, , , , \\n\\n, , , , \\...</td>\n",
              "      <td>155</td>\n",
              "      <td>4</td>\n",
              "    </tr>\n",
              "    <tr>\n",
              "      <th>3</th>\n",
              "      <td>5.0</td>\n",
              "      <td>Un film immense, rempli de poésie et de bons s...</td>\n",
              "      <td>Publiée le 13 juin 2010</td>\n",
              "      <td>[46\\n, , , , , , , , \\n\\n, , , , \\n\\n, , , , \\...</td>\n",
              "      <td>155</td>\n",
              "      <td>5</td>\n",
              "    </tr>\n",
              "    <tr>\n",
              "      <th>4</th>\n",
              "      <td>5.0</td>\n",
              "      <td>Un très grand film . Ce film suit la vie sur p...</td>\n",
              "      <td>Publiée le 18 août 2014</td>\n",
              "      <td>[28\\n, , , , , , , , \\n\\n, , , , \\n\\n, , , , \\...</td>\n",
              "      <td>155</td>\n",
              "      <td>3</td>\n",
              "    </tr>\n",
              "  </tbody>\n",
              "</table>\n",
              "</div>"
            ],
            "text/plain": [
              "  Note                                        Description  ... good bad\n",
              "0  5.0  Forrest Gump de Robert Zemeckis (réalisateur d...  ...  155  10\n",
              "1  5.0  Une immense rèussite du cinèma hollywoodien! R...  ...  155   3\n",
              "2  5.0  Le matin, quand il fait bon et beau, normal qu...  ...  155   4\n",
              "3  5.0  Un film immense, rempli de poésie et de bons s...  ...  155   5\n",
              "4  5.0  Un très grand film . Ce film suit la vie sur p...  ...  155   3\n",
              "\n",
              "[5 rows x 6 columns]"
            ]
          },
          "metadata": {
            "tags": []
          },
          "execution_count": 428
        }
      ]
    },
    {
      "cell_type": "markdown",
      "metadata": {
        "id": "u-1MKtQAsK5T"
      },
      "source": [
        "## Supression de la colonne nombre_good_bad"
      ]
    },
    {
      "cell_type": "code",
      "metadata": {
        "colab": {
          "base_uri": "https://localhost:8080/"
        },
        "id": "WAjhC-eMsOG0",
        "outputId": "9cf513ad-d350-4d1d-e034-3ef3148f404b"
      },
      "source": [
        "df2.pop(\"nombre_good_bad\")"
      ],
      "execution_count": 429,
      "outputs": [
        {
          "output_type": "execute_result",
          "data": {
            "text/plain": [
              "0       [155\\n, , , , , , , , \\n\\n, , , , \\n\\n, , , , ...\n",
              "1       [42\\n, , , , , , , , \\n\\n, , , , \\n\\n, , , , \\...\n",
              "2       [39\\n, , , , , , , , \\n\\n, , , , \\n\\n, , , , \\...\n",
              "3       [46\\n, , , , , , , , \\n\\n, , , , \\n\\n, , , , \\...\n",
              "4       [28\\n, , , , , , , , \\n\\n, , , , \\n\\n, , , , \\...\n",
              "                              ...                        \n",
              "2004    [0\\n, , , , , , , , \\n\\n, , , , \\n\\n, , , , \\n...\n",
              "2005    [0\\n, , , , , , , , \\n\\n, , , , \\n\\n, , , , \\n...\n",
              "2006    [0\\n, , , , , , , , \\n\\n, , , , \\n\\n, , , , \\n...\n",
              "2007    [0\\n, , , , , , , , \\n\\n, , , , \\n\\n, , , , \\n...\n",
              "2008    [0\\n, , , , , , , , \\n\\n, , , , \\n\\n, , , , \\n...\n",
              "Name: nombre_good_bad, Length: 2009, dtype: object"
            ]
          },
          "metadata": {
            "tags": []
          },
          "execution_count": 429
        }
      ]
    },
    {
      "cell_type": "code",
      "metadata": {
        "colab": {
          "base_uri": "https://localhost:8080/",
          "height": 0
        },
        "id": "xNdIREyGsROY",
        "outputId": "164881bf-8dad-4e5e-a4be-77c88f2e15f0"
      },
      "source": [
        "df2.head()"
      ],
      "execution_count": 430,
      "outputs": [
        {
          "output_type": "execute_result",
          "data": {
            "text/html": [
              "<div>\n",
              "<style scoped>\n",
              "    .dataframe tbody tr th:only-of-type {\n",
              "        vertical-align: middle;\n",
              "    }\n",
              "\n",
              "    .dataframe tbody tr th {\n",
              "        vertical-align: top;\n",
              "    }\n",
              "\n",
              "    .dataframe thead th {\n",
              "        text-align: right;\n",
              "    }\n",
              "</style>\n",
              "<table border=\"1\" class=\"dataframe\">\n",
              "  <thead>\n",
              "    <tr style=\"text-align: right;\">\n",
              "      <th></th>\n",
              "      <th>Note</th>\n",
              "      <th>Description</th>\n",
              "      <th>Date</th>\n",
              "      <th>good</th>\n",
              "      <th>bad</th>\n",
              "    </tr>\n",
              "  </thead>\n",
              "  <tbody>\n",
              "    <tr>\n",
              "      <th>0</th>\n",
              "      <td>5.0</td>\n",
              "      <td>Forrest Gump de Robert Zemeckis (réalisateur d...</td>\n",
              "      <td>Publiée le 8 avril 2013</td>\n",
              "      <td>155</td>\n",
              "      <td>10</td>\n",
              "    </tr>\n",
              "    <tr>\n",
              "      <th>1</th>\n",
              "      <td>5.0</td>\n",
              "      <td>Une immense rèussite du cinèma hollywoodien! R...</td>\n",
              "      <td>Publiée le 25 juillet 2019</td>\n",
              "      <td>155</td>\n",
              "      <td>3</td>\n",
              "    </tr>\n",
              "    <tr>\n",
              "      <th>2</th>\n",
              "      <td>5.0</td>\n",
              "      <td>Le matin, quand il fait bon et beau, normal qu...</td>\n",
              "      <td>Publiée le 18 juillet 2014</td>\n",
              "      <td>155</td>\n",
              "      <td>4</td>\n",
              "    </tr>\n",
              "    <tr>\n",
              "      <th>3</th>\n",
              "      <td>5.0</td>\n",
              "      <td>Un film immense, rempli de poésie et de bons s...</td>\n",
              "      <td>Publiée le 13 juin 2010</td>\n",
              "      <td>155</td>\n",
              "      <td>5</td>\n",
              "    </tr>\n",
              "    <tr>\n",
              "      <th>4</th>\n",
              "      <td>5.0</td>\n",
              "      <td>Un très grand film . Ce film suit la vie sur p...</td>\n",
              "      <td>Publiée le 18 août 2014</td>\n",
              "      <td>155</td>\n",
              "      <td>3</td>\n",
              "    </tr>\n",
              "  </tbody>\n",
              "</table>\n",
              "</div>"
            ],
            "text/plain": [
              "  Note                                        Description  ... good bad\n",
              "0  5.0  Forrest Gump de Robert Zemeckis (réalisateur d...  ...  155  10\n",
              "1  5.0  Une immense rèussite du cinèma hollywoodien! R...  ...  155   3\n",
              "2  5.0  Le matin, quand il fait bon et beau, normal qu...  ...  155   4\n",
              "3  5.0  Un film immense, rempli de poésie et de bons s...  ...  155   5\n",
              "4  5.0  Un très grand film . Ce film suit la vie sur p...  ...  155   3\n",
              "\n",
              "[5 rows x 5 columns]"
            ]
          },
          "metadata": {
            "tags": []
          },
          "execution_count": 430
        }
      ]
    },
    {
      "cell_type": "code",
      "metadata": {
        "id": "4rornayn1lBp"
      },
      "source": [
        "df3 = df2.copy()"
      ],
      "execution_count": 431,
      "outputs": []
    },
    {
      "cell_type": "markdown",
      "metadata": {
        "id": "K1yp-GMusXRg"
      },
      "source": [
        "# Prédiction"
      ]
    },
    {
      "cell_type": "markdown",
      "metadata": {
        "id": "O5w-2n-Duwr7"
      },
      "source": [
        "## Variable cible binaire"
      ]
    },
    {
      "cell_type": "code",
      "metadata": {
        "colab": {
          "base_uri": "https://localhost:8080/",
          "height": 0
        },
        "id": "wCzpUnkRsWzh",
        "outputId": "265bf0ba-66c5-4620-d13f-031a2afec2c0"
      },
      "source": [
        "df3.head()"
      ],
      "execution_count": 432,
      "outputs": [
        {
          "output_type": "execute_result",
          "data": {
            "text/html": [
              "<div>\n",
              "<style scoped>\n",
              "    .dataframe tbody tr th:only-of-type {\n",
              "        vertical-align: middle;\n",
              "    }\n",
              "\n",
              "    .dataframe tbody tr th {\n",
              "        vertical-align: top;\n",
              "    }\n",
              "\n",
              "    .dataframe thead th {\n",
              "        text-align: right;\n",
              "    }\n",
              "</style>\n",
              "<table border=\"1\" class=\"dataframe\">\n",
              "  <thead>\n",
              "    <tr style=\"text-align: right;\">\n",
              "      <th></th>\n",
              "      <th>Note</th>\n",
              "      <th>Description</th>\n",
              "      <th>Date</th>\n",
              "      <th>good</th>\n",
              "      <th>bad</th>\n",
              "    </tr>\n",
              "  </thead>\n",
              "  <tbody>\n",
              "    <tr>\n",
              "      <th>0</th>\n",
              "      <td>5.0</td>\n",
              "      <td>Forrest Gump de Robert Zemeckis (réalisateur d...</td>\n",
              "      <td>Publiée le 8 avril 2013</td>\n",
              "      <td>155</td>\n",
              "      <td>10</td>\n",
              "    </tr>\n",
              "    <tr>\n",
              "      <th>1</th>\n",
              "      <td>5.0</td>\n",
              "      <td>Une immense rèussite du cinèma hollywoodien! R...</td>\n",
              "      <td>Publiée le 25 juillet 2019</td>\n",
              "      <td>155</td>\n",
              "      <td>3</td>\n",
              "    </tr>\n",
              "    <tr>\n",
              "      <th>2</th>\n",
              "      <td>5.0</td>\n",
              "      <td>Le matin, quand il fait bon et beau, normal qu...</td>\n",
              "      <td>Publiée le 18 juillet 2014</td>\n",
              "      <td>155</td>\n",
              "      <td>4</td>\n",
              "    </tr>\n",
              "    <tr>\n",
              "      <th>3</th>\n",
              "      <td>5.0</td>\n",
              "      <td>Un film immense, rempli de poésie et de bons s...</td>\n",
              "      <td>Publiée le 13 juin 2010</td>\n",
              "      <td>155</td>\n",
              "      <td>5</td>\n",
              "    </tr>\n",
              "    <tr>\n",
              "      <th>4</th>\n",
              "      <td>5.0</td>\n",
              "      <td>Un très grand film . Ce film suit la vie sur p...</td>\n",
              "      <td>Publiée le 18 août 2014</td>\n",
              "      <td>155</td>\n",
              "      <td>3</td>\n",
              "    </tr>\n",
              "  </tbody>\n",
              "</table>\n",
              "</div>"
            ],
            "text/plain": [
              "  Note                                        Description  ... good bad\n",
              "0  5.0  Forrest Gump de Robert Zemeckis (réalisateur d...  ...  155  10\n",
              "1  5.0  Une immense rèussite du cinèma hollywoodien! R...  ...  155   3\n",
              "2  5.0  Le matin, quand il fait bon et beau, normal qu...  ...  155   4\n",
              "3  5.0  Un film immense, rempli de poésie et de bons s...  ...  155   5\n",
              "4  5.0  Un très grand film . Ce film suit la vie sur p...  ...  155   3\n",
              "\n",
              "[5 rows x 5 columns]"
            ]
          },
          "metadata": {
            "tags": []
          },
          "execution_count": 432
        }
      ]
    },
    {
      "cell_type": "code",
      "metadata": {
        "colab": {
          "base_uri": "https://localhost:8080/"
        },
        "id": "8HoTDEOutMCk",
        "outputId": "84f1945b-6d09-4af1-e894-29c7c7b0007a"
      },
      "source": [
        "df3[\"Note\"].unique()"
      ],
      "execution_count": 433,
      "outputs": [
        {
          "output_type": "execute_result",
          "data": {
            "text/plain": [
              "array(['5.0'], dtype=object)"
            ]
          },
          "metadata": {
            "tags": []
          },
          "execution_count": 433
        }
      ]
    },
    {
      "cell_type": "code",
      "metadata": {
        "id": "xunL1EXZsudF"
      },
      "source": [
        "#Construction de la variable Target \"Note\".\n",
        "# Ici les notes ne sont pas variées. La variable cible binaire n'a pas de sens.\n",
        "df3[\"Cible\"] = df3.Note.apply(lambda x: 1 if float(x) > 2.5 else 0)"
      ],
      "execution_count": 434,
      "outputs": []
    },
    {
      "cell_type": "code",
      "metadata": {
        "colab": {
          "base_uri": "https://localhost:8080/",
          "height": 0
        },
        "id": "uk_A3j65umam",
        "outputId": "25807541-6dd9-4661-939e-5674c7885bdd"
      },
      "source": [
        "df3.head()"
      ],
      "execution_count": 435,
      "outputs": [
        {
          "output_type": "execute_result",
          "data": {
            "text/html": [
              "<div>\n",
              "<style scoped>\n",
              "    .dataframe tbody tr th:only-of-type {\n",
              "        vertical-align: middle;\n",
              "    }\n",
              "\n",
              "    .dataframe tbody tr th {\n",
              "        vertical-align: top;\n",
              "    }\n",
              "\n",
              "    .dataframe thead th {\n",
              "        text-align: right;\n",
              "    }\n",
              "</style>\n",
              "<table border=\"1\" class=\"dataframe\">\n",
              "  <thead>\n",
              "    <tr style=\"text-align: right;\">\n",
              "      <th></th>\n",
              "      <th>Note</th>\n",
              "      <th>Description</th>\n",
              "      <th>Date</th>\n",
              "      <th>good</th>\n",
              "      <th>bad</th>\n",
              "      <th>Cible</th>\n",
              "    </tr>\n",
              "  </thead>\n",
              "  <tbody>\n",
              "    <tr>\n",
              "      <th>0</th>\n",
              "      <td>5.0</td>\n",
              "      <td>Forrest Gump de Robert Zemeckis (réalisateur d...</td>\n",
              "      <td>Publiée le 8 avril 2013</td>\n",
              "      <td>155</td>\n",
              "      <td>10</td>\n",
              "      <td>1</td>\n",
              "    </tr>\n",
              "    <tr>\n",
              "      <th>1</th>\n",
              "      <td>5.0</td>\n",
              "      <td>Une immense rèussite du cinèma hollywoodien! R...</td>\n",
              "      <td>Publiée le 25 juillet 2019</td>\n",
              "      <td>155</td>\n",
              "      <td>3</td>\n",
              "      <td>1</td>\n",
              "    </tr>\n",
              "    <tr>\n",
              "      <th>2</th>\n",
              "      <td>5.0</td>\n",
              "      <td>Le matin, quand il fait bon et beau, normal qu...</td>\n",
              "      <td>Publiée le 18 juillet 2014</td>\n",
              "      <td>155</td>\n",
              "      <td>4</td>\n",
              "      <td>1</td>\n",
              "    </tr>\n",
              "    <tr>\n",
              "      <th>3</th>\n",
              "      <td>5.0</td>\n",
              "      <td>Un film immense, rempli de poésie et de bons s...</td>\n",
              "      <td>Publiée le 13 juin 2010</td>\n",
              "      <td>155</td>\n",
              "      <td>5</td>\n",
              "      <td>1</td>\n",
              "    </tr>\n",
              "    <tr>\n",
              "      <th>4</th>\n",
              "      <td>5.0</td>\n",
              "      <td>Un très grand film . Ce film suit la vie sur p...</td>\n",
              "      <td>Publiée le 18 août 2014</td>\n",
              "      <td>155</td>\n",
              "      <td>3</td>\n",
              "      <td>1</td>\n",
              "    </tr>\n",
              "  </tbody>\n",
              "</table>\n",
              "</div>"
            ],
            "text/plain": [
              "  Note                                        Description  ... bad Cible\n",
              "0  5.0  Forrest Gump de Robert Zemeckis (réalisateur d...  ...  10     1\n",
              "1  5.0  Une immense rèussite du cinèma hollywoodien! R...  ...   3     1\n",
              "2  5.0  Le matin, quand il fait bon et beau, normal qu...  ...   4     1\n",
              "3  5.0  Un film immense, rempli de poésie et de bons s...  ...   5     1\n",
              "4  5.0  Un très grand film . Ce film suit la vie sur p...  ...   3     1\n",
              "\n",
              "[5 rows x 6 columns]"
            ]
          },
          "metadata": {
            "tags": []
          },
          "execution_count": 435
        }
      ]
    },
    {
      "cell_type": "markdown",
      "metadata": {
        "id": "KvHRKq3SuzI3"
      },
      "source": [
        "## Pre-processing\n",
        "\n"
      ]
    },
    {
      "cell_type": "markdown",
      "metadata": {
        "id": "5ErR5kk-wG6z"
      },
      "source": [
        "### Tokenisation"
      ]
    },
    {
      "cell_type": "code",
      "metadata": {
        "colab": {
          "base_uri": "https://localhost:8080/"
        },
        "id": "QB3bJCDju4WW",
        "outputId": "35e5e864-2ec1-4308-84d5-0096e76a7379"
      },
      "source": [
        "import nltk\n",
        "nltk.download('punkt')\n",
        "from nltk import word_tokenize\n"
      ],
      "execution_count": 436,
      "outputs": [
        {
          "output_type": "stream",
          "text": [
            "[nltk_data] Downloading package punkt to /root/nltk_data...\n",
            "[nltk_data]   Package punkt is already up-to-date!\n"
          ],
          "name": "stdout"
        }
      ]
    },
    {
      "cell_type": "code",
      "metadata": {
        "id": "ezOPgQO6vLhP"
      },
      "source": [
        "df3[\"Description\"] = df3[\"Description\"].apply(lambda x : nltk.word_tokenize(x))"
      ],
      "execution_count": 437,
      "outputs": []
    },
    {
      "cell_type": "code",
      "metadata": {
        "colab": {
          "base_uri": "https://localhost:8080/"
        },
        "id": "9tAAbeaGvlnB",
        "outputId": "93a7898f-8a9c-4dd3-a094-88539542d214"
      },
      "source": [
        "df3[\"Description\"]"
      ],
      "execution_count": 438,
      "outputs": [
        {
          "output_type": "execute_result",
          "data": {
            "text/plain": [
              "0       [Forrest, Gump, de, Robert, Zemeckis, (, réali...\n",
              "1       [Une, immense, rèussite, du, cinèma, hollywood...\n",
              "2       [Le, matin, ,, quand, il, fait, bon, et, beau,...\n",
              "3       [Un, film, immense, ,, rempli, de, poésie, et,...\n",
              "4       [Un, très, grand, film, ., Ce, film, suit, la,...\n",
              "                              ...                        \n",
              "2004    [Ce, film, est, un, chef, d'œuvre, j'ai, adoré...\n",
              "2005    [Meilleur, film, de, tous, les, temps, ., Acte...\n",
              "2006    [Ce, film, est, bouleversant, ., Même, après, ...\n",
              "2007    [Ce, film, est, un, classique, ., Très, toucha...\n",
              "2008    [Il, s'agit, là, d'un, incontournable, !, Forr...\n",
              "Name: Description, Length: 2009, dtype: object"
            ]
          },
          "metadata": {
            "tags": []
          },
          "execution_count": 438
        }
      ]
    },
    {
      "cell_type": "markdown",
      "metadata": {
        "id": "fXXKNPpZwKnN"
      },
      "source": [
        "### Suppression des stop-words"
      ]
    },
    {
      "cell_type": "code",
      "metadata": {
        "id": "691fiR3-vn2b"
      },
      "source": [
        "import spacy\n",
        "from spacy.lang.fr.stop_words import STOP_WORDS"
      ],
      "execution_count": 439,
      "outputs": []
    },
    {
      "cell_type": "code",
      "metadata": {
        "colab": {
          "base_uri": "https://localhost:8080/"
        },
        "id": "fCx5ajBjv9-R",
        "outputId": "3c66b06c-4ccb-4e18-f06a-f5e3e729cfb0"
      },
      "source": [
        "stopwords = STOP_WORDS\n",
        "len(stopwords)"
      ],
      "execution_count": 440,
      "outputs": [
        {
          "output_type": "execute_result",
          "data": {
            "text/plain": [
              "600"
            ]
          },
          "metadata": {
            "tags": []
          },
          "execution_count": 440
        }
      ]
    },
    {
      "cell_type": "code",
      "metadata": {
        "id": "0wGEu32EwEf3"
      },
      "source": [
        "df3[\"Description\"] = df3[\"Description\"].apply(lambda x: [token for token in x if token not in stopwords])"
      ],
      "execution_count": 441,
      "outputs": []
    },
    {
      "cell_type": "code",
      "metadata": {
        "colab": {
          "base_uri": "https://localhost:8080/"
        },
        "id": "vER64bMIxDMU",
        "outputId": "2618816a-96be-4c52-ffe0-0139049342d3"
      },
      "source": [
        "df3[\"Description\"]"
      ],
      "execution_count": 442,
      "outputs": [
        {
          "output_type": "execute_result",
          "data": {
            "text/plain": [
              "0       [Forrest, Gump, Robert, Zemeckis, (, réalisate...\n",
              "1       [Une, immense, rèussite, cinèma, hollywoodien,...\n",
              "2       [Le, matin, ,, bon, ,, normal, ,, j'aime, bala...\n",
              "3       [Un, film, immense, ,, rempli, poésie, bons, s...\n",
              "4       [Un, grand, film, ., Ce, film, vie, décennie, ...\n",
              "                              ...                        \n",
              "2004    [Ce, film, chef, d'œuvre, j'ai, adoré, vraimen...\n",
              "2005    [Meilleur, film, temps, ., Acteurs, géniaux, c...\n",
              "2006    [Ce, film, bouleversant, ., Même, l'avoir, foi...\n",
              "2007            [Ce, film, classique, ., Très, réfléchir]\n",
              "2008    [Il, s'agit, d'un, incontournable, !, Forrest,...\n",
              "Name: Description, Length: 2009, dtype: object"
            ]
          },
          "metadata": {
            "tags": []
          },
          "execution_count": 442
        }
      ]
    },
    {
      "cell_type": "markdown",
      "metadata": {
        "id": "DiG1GABHxKTw"
      },
      "source": [
        "### Suppression de la ponctuation"
      ]
    },
    {
      "cell_type": "code",
      "metadata": {
        "colab": {
          "base_uri": "https://localhost:8080/",
          "height": 238
        },
        "id": "SOoAS1RaxNIA",
        "outputId": "cdae8be3-773e-4c6b-8841-30c4318573bb"
      },
      "source": [
        "for k in range(len(df2)):\n",
        "  for i in df2[\"Description\"][k]:\n",
        "    punct = [\".\", \",\", \")\", \"(\", \"!\", \"?\", \":\", \";\"]\n",
        "    if i in punct:\n",
        "      df2[\"Description\"][k] = df2[\"Description\"][k].remove(i)\n",
        "\n",
        "#Pas réussie"
      ],
      "execution_count": 443,
      "outputs": [
        {
          "output_type": "error",
          "ename": "AttributeError",
          "evalue": "ignored",
          "traceback": [
            "\u001b[0;31m---------------------------------------------------------------------------\u001b[0m",
            "\u001b[0;31mAttributeError\u001b[0m                            Traceback (most recent call last)",
            "\u001b[0;32m<ipython-input-443-39601ceb716a>\u001b[0m in \u001b[0;36m<module>\u001b[0;34m()\u001b[0m\n\u001b[1;32m      3\u001b[0m     \u001b[0mpunct\u001b[0m \u001b[0;34m=\u001b[0m \u001b[0;34m[\u001b[0m\u001b[0;34m\".\"\u001b[0m\u001b[0;34m,\u001b[0m \u001b[0;34m\",\"\u001b[0m\u001b[0;34m,\u001b[0m \u001b[0;34m\")\"\u001b[0m\u001b[0;34m,\u001b[0m \u001b[0;34m\"(\"\u001b[0m\u001b[0;34m,\u001b[0m \u001b[0;34m\"!\"\u001b[0m\u001b[0;34m,\u001b[0m \u001b[0;34m\"?\"\u001b[0m\u001b[0;34m,\u001b[0m \u001b[0;34m\":\"\u001b[0m\u001b[0;34m,\u001b[0m \u001b[0;34m\";\"\u001b[0m\u001b[0;34m]\u001b[0m\u001b[0;34m\u001b[0m\u001b[0;34m\u001b[0m\u001b[0m\n\u001b[1;32m      4\u001b[0m     \u001b[0;32mif\u001b[0m \u001b[0mi\u001b[0m \u001b[0;32min\u001b[0m \u001b[0mpunct\u001b[0m\u001b[0;34m:\u001b[0m\u001b[0;34m\u001b[0m\u001b[0;34m\u001b[0m\u001b[0m\n\u001b[0;32m----> 5\u001b[0;31m       \u001b[0mdf2\u001b[0m\u001b[0;34m[\u001b[0m\u001b[0;34m\"Description\"\u001b[0m\u001b[0;34m]\u001b[0m\u001b[0;34m[\u001b[0m\u001b[0mk\u001b[0m\u001b[0;34m]\u001b[0m \u001b[0;34m=\u001b[0m \u001b[0mdf2\u001b[0m\u001b[0;34m[\u001b[0m\u001b[0;34m\"Description\"\u001b[0m\u001b[0;34m]\u001b[0m\u001b[0;34m[\u001b[0m\u001b[0mk\u001b[0m\u001b[0;34m]\u001b[0m\u001b[0;34m.\u001b[0m\u001b[0mremove\u001b[0m\u001b[0;34m(\u001b[0m\u001b[0mi\u001b[0m\u001b[0;34m)\u001b[0m\u001b[0;34m\u001b[0m\u001b[0;34m\u001b[0m\u001b[0m\n\u001b[0m\u001b[1;32m      6\u001b[0m \u001b[0;34m\u001b[0m\u001b[0m\n\u001b[1;32m      7\u001b[0m \u001b[0;31m#Pas réussie\u001b[0m\u001b[0;34m\u001b[0m\u001b[0;34m\u001b[0m\u001b[0;34m\u001b[0m\u001b[0m\n",
            "\u001b[0;31mAttributeError\u001b[0m: 'str' object has no attribute 'remove'"
          ]
        }
      ]
    },
    {
      "cell_type": "markdown",
      "metadata": {
        "id": "bY17gVxJyvLt"
      },
      "source": [
        "### Lemming"
      ]
    },
    {
      "cell_type": "code",
      "metadata": {
        "colab": {
          "base_uri": "https://localhost:8080/"
        },
        "id": "5zx6Xa3GyqP2",
        "outputId": "216cc2aa-1b84-417a-8821-a35874035439"
      },
      "source": [
        "from nltk.stem  import WordNetLemmatizer\n",
        "nltk.download('wordnet')"
      ],
      "execution_count": 448,
      "outputs": [
        {
          "output_type": "stream",
          "text": [
            "[nltk_data] Downloading package wordnet to /root/nltk_data...\n",
            "[nltk_data]   Package wordnet is already up-to-date!\n"
          ],
          "name": "stdout"
        },
        {
          "output_type": "execute_result",
          "data": {
            "text/plain": [
              "True"
            ]
          },
          "metadata": {
            "tags": []
          },
          "execution_count": 448
        }
      ]
    },
    {
      "cell_type": "code",
      "metadata": {
        "id": "SkpmmJ0by3r7"
      },
      "source": [
        "lemmatizer = WordNetLemmatizer()"
      ],
      "execution_count": 449,
      "outputs": []
    },
    {
      "cell_type": "code",
      "metadata": {
        "id": "qosW3qxj1Rqn"
      },
      "source": [
        "df3[\"Description\"] = df3.Description.apply(lambda x: lemmatizer.lemmatize(\" \".join(x)))"
      ],
      "execution_count": 450,
      "outputs": []
    },
    {
      "cell_type": "code",
      "metadata": {
        "colab": {
          "base_uri": "https://localhost:8080/"
        },
        "id": "3olZtDrE0Uwl",
        "outputId": "9a3424ca-391c-4bed-e904-ff11e74a5ee0"
      },
      "source": [
        "df3[\"Description\"]"
      ],
      "execution_count": 451,
      "outputs": [
        {
          "output_type": "execute_result",
          "data": {
            "text/plain": [
              "0       F o r r e s t   G u m p   R o b e r t   Z e m ...\n",
              "1       U n e   i m m e n s e   r è u s s i t e   c i ...\n",
              "2       L e   m a t i n   ,   b o n   ,   n o r m a l ...\n",
              "3       U n   f i l m   i m m e n s e   ,   r e m p l ...\n",
              "4       U n   g r a n d   f i l m   .   C e   f i l m ...\n",
              "                              ...                        \n",
              "2004    C e   f i l m   c h e f   d ' œ u v r e   j ' ...\n",
              "2005    M e i l l e u r   f i l m   t e m p s   .   A ...\n",
              "2006    C e   f i l m   b o u l e v e r s a n t   .   ...\n",
              "2007    C e   f i l m   c l a s s i q u e   .   T r è ...\n",
              "2008    I l   s ' a g i t   d ' u n   i n c o n t o u ...\n",
              "Name: Description, Length: 2009, dtype: object"
            ]
          },
          "metadata": {
            "tags": []
          },
          "execution_count": 451
        }
      ]
    },
    {
      "cell_type": "markdown",
      "metadata": {
        "id": "QX9CWHpg23ZG"
      },
      "source": [
        "### Variable cible continue"
      ]
    },
    {
      "cell_type": "code",
      "metadata": {
        "id": "b7TVlQBl26su"
      },
      "source": [
        "negatifs_words = ['ne', 'n\\'', 'pas', 'plus', 'jamais', 'guère', 'nul', 'na', 'ni', 'mais', 'rien']\n",
        "positif_words = [x for x in stopwords if x not in negatifs_words]"
      ],
      "execution_count": 452,
      "outputs": []
    },
    {
      "cell_type": "code",
      "metadata": {
        "colab": {
          "base_uri": "https://localhost:8080/"
        },
        "id": "s5kukzKC3Njp",
        "outputId": "c21ddc7f-ded8-4108-9c59-356e7329335d"
      },
      "source": [
        "len(stopwords)\n",
        "len(positif_words)"
      ],
      "execution_count": 453,
      "outputs": [
        {
          "output_type": "execute_result",
          "data": {
            "text/plain": [
              "591"
            ]
          },
          "metadata": {
            "tags": []
          },
          "execution_count": 453
        }
      ]
    },
    {
      "cell_type": "code",
      "metadata": {
        "id": "dgcRAz-s3Mgc"
      },
      "source": [
        "df3[\"Positif\"] = df.Description.apply(lambda x: 0 if x.lower() in negatifs_words else 1)"
      ],
      "execution_count": 454,
      "outputs": []
    },
    {
      "cell_type": "code",
      "metadata": {
        "colab": {
          "base_uri": "https://localhost:8080/",
          "height": 200
        },
        "id": "n_zXmjW04BFv",
        "outputId": "7b588078-b411-40a0-9822-a1158257bcbd"
      },
      "source": [
        "df3.head()"
      ],
      "execution_count": 455,
      "outputs": [
        {
          "output_type": "execute_result",
          "data": {
            "text/html": [
              "<div>\n",
              "<style scoped>\n",
              "    .dataframe tbody tr th:only-of-type {\n",
              "        vertical-align: middle;\n",
              "    }\n",
              "\n",
              "    .dataframe tbody tr th {\n",
              "        vertical-align: top;\n",
              "    }\n",
              "\n",
              "    .dataframe thead th {\n",
              "        text-align: right;\n",
              "    }\n",
              "</style>\n",
              "<table border=\"1\" class=\"dataframe\">\n",
              "  <thead>\n",
              "    <tr style=\"text-align: right;\">\n",
              "      <th></th>\n",
              "      <th>Note</th>\n",
              "      <th>Description</th>\n",
              "      <th>Date</th>\n",
              "      <th>good</th>\n",
              "      <th>bad</th>\n",
              "      <th>Cible</th>\n",
              "      <th>Positif</th>\n",
              "    </tr>\n",
              "  </thead>\n",
              "  <tbody>\n",
              "    <tr>\n",
              "      <th>0</th>\n",
              "      <td>5.0</td>\n",
              "      <td>F o r r e s t   G u m p   R o b e r t   Z e m ...</td>\n",
              "      <td>Publiée le 8 avril 2013</td>\n",
              "      <td>155</td>\n",
              "      <td>10</td>\n",
              "      <td>1</td>\n",
              "      <td>1</td>\n",
              "    </tr>\n",
              "    <tr>\n",
              "      <th>1</th>\n",
              "      <td>5.0</td>\n",
              "      <td>U n e   i m m e n s e   r è u s s i t e   c i ...</td>\n",
              "      <td>Publiée le 25 juillet 2019</td>\n",
              "      <td>155</td>\n",
              "      <td>3</td>\n",
              "      <td>1</td>\n",
              "      <td>1</td>\n",
              "    </tr>\n",
              "    <tr>\n",
              "      <th>2</th>\n",
              "      <td>5.0</td>\n",
              "      <td>L e   m a t i n   ,   b o n   ,   n o r m a l ...</td>\n",
              "      <td>Publiée le 18 juillet 2014</td>\n",
              "      <td>155</td>\n",
              "      <td>4</td>\n",
              "      <td>1</td>\n",
              "      <td>1</td>\n",
              "    </tr>\n",
              "    <tr>\n",
              "      <th>3</th>\n",
              "      <td>5.0</td>\n",
              "      <td>U n   f i l m   i m m e n s e   ,   r e m p l ...</td>\n",
              "      <td>Publiée le 13 juin 2010</td>\n",
              "      <td>155</td>\n",
              "      <td>5</td>\n",
              "      <td>1</td>\n",
              "      <td>1</td>\n",
              "    </tr>\n",
              "    <tr>\n",
              "      <th>4</th>\n",
              "      <td>5.0</td>\n",
              "      <td>U n   g r a n d   f i l m   .   C e   f i l m ...</td>\n",
              "      <td>Publiée le 18 août 2014</td>\n",
              "      <td>155</td>\n",
              "      <td>3</td>\n",
              "      <td>1</td>\n",
              "      <td>1</td>\n",
              "    </tr>\n",
              "  </tbody>\n",
              "</table>\n",
              "</div>"
            ],
            "text/plain": [
              "  Note                                        Description  ... Cible Positif\n",
              "0  5.0  F o r r e s t   G u m p   R o b e r t   Z e m ...  ...     1       1\n",
              "1  5.0  U n e   i m m e n s e   r è u s s i t e   c i ...  ...     1       1\n",
              "2  5.0  L e   m a t i n   ,   b o n   ,   n o r m a l ...  ...     1       1\n",
              "3  5.0  U n   f i l m   i m m e n s e   ,   r e m p l ...  ...     1       1\n",
              "4  5.0  U n   g r a n d   f i l m   .   C e   f i l m ...  ...     1       1\n",
              "\n",
              "[5 rows x 7 columns]"
            ]
          },
          "metadata": {
            "tags": []
          },
          "execution_count": 455
        }
      ]
    },
    {
      "cell_type": "code",
      "metadata": {
        "colab": {
          "base_uri": "https://localhost:8080/"
        },
        "id": "JVr91fcY4NYt",
        "outputId": "46e09d17-03a8-44de-e9b5-6038fc4cf5e7"
      },
      "source": [
        "df3[\"Positif\"].unique()\n",
        "# A priori, il y a cohérence entre les notes élevées et les termes du commentaire."
      ],
      "execution_count": 456,
      "outputs": [
        {
          "output_type": "execute_result",
          "data": {
            "text/plain": [
              "array([1])"
            ]
          },
          "metadata": {
            "tags": []
          },
          "execution_count": 456
        }
      ]
    },
    {
      "cell_type": "markdown",
      "metadata": {
        "id": "AYBxbx7R4JCI"
      },
      "source": [
        "# Modélisation 1 : La note"
      ]
    },
    {
      "cell_type": "code",
      "metadata": {
        "colab": {
          "base_uri": "https://localhost:8080/",
          "height": 366
        },
        "id": "i8jRVV2S5Q7z",
        "outputId": "ca0b2335-93e4-4a19-e5a2-ddedc26fe06e"
      },
      "source": [
        "cloud = df\n",
        "\n",
        "from wordcloud import WordCloud\n",
        "import matplotlib.pyplot as plt\n",
        "\n",
        "\n",
        "def show_wordcloud(data, title = None):\n",
        "    wordcloud = WordCloud(\n",
        "        collocations = False,\n",
        "        background_color='white',\n",
        "        stopwords=stopwords,\n",
        "        max_words=10,\n",
        "        max_font_size=40, \n",
        "        scale=3,\n",
        "        random_state=1\n",
        "    ).generate(str(data))\n",
        "\n",
        "    fig = plt.figure(1, figsize=(12, 12))\n",
        "    plt.axis('off')\n",
        "    if title: \n",
        "        fig.suptitle(title, fontsize=20)\n",
        "        fig.subplots_adjust(top=3)\n",
        "\n",
        "    plt.imshow(wordcloud)\n",
        "    plt.show()\n",
        "\n",
        "show_wordcloud(df3[\"Description\"])"
      ],
      "execution_count": 457,
      "outputs": [
        {
          "output_type": "display_data",
          "data": {
            "image/png": "[encoded data removed]",
            "text/plain": [
              "<Figure size 864x864 with 1 Axes>"
            ]
          },
          "metadata": {
            "tags": [],
            "needs_background": "light"
          }
        }
      ]
    },
    {
      "cell_type": "code",
      "metadata": {
        "colab": {
          "base_uri": "https://localhost:8080/"
        },
        "id": "jFTGy6Dn7r8F",
        "outputId": "139e943c-d401-4d66-a5a1-c0a67de294ae"
      },
      "source": [
        "df3[\"Description\"]"
      ],
      "execution_count": 462,
      "outputs": [
        {
          "output_type": "execute_result",
          "data": {
            "text/plain": [
              "0       F o r r e s t   G u m p   R o b e r t   Z e m ...\n",
              "1       U n e   i m m e n s e   r è u s s i t e   c i ...\n",
              "2       L e   m a t i n   ,   b o n   ,   n o r m a l ...\n",
              "3       U n   f i l m   i m m e n s e   ,   r e m p l ...\n",
              "4       U n   g r a n d   f i l m   .   C e   f i l m ...\n",
              "                              ...                        \n",
              "2004    C e   f i l m   c h e f   d ' œ u v r e   j ' ...\n",
              "2005    M e i l l e u r   f i l m   t e m p s   .   A ...\n",
              "2006    C e   f i l m   b o u l e v e r s a n t   .   ...\n",
              "2007    C e   f i l m   c l a s s i q u e   .   T r è ...\n",
              "2008    I l   s ' a g i t   d ' u n   i n c o n t o u ...\n",
              "Name: Description, Length: 2009, dtype: object"
            ]
          },
          "metadata": {
            "tags": []
          },
          "execution_count": 462
        }
      ]
    },
    {
      "cell_type": "code",
      "metadata": {
        "id": "WPbEzP7N6n69"
      },
      "source": [
        "from sklearn.feature_extraction.text import TfidfVectorizer"
      ],
      "execution_count": 458,
      "outputs": []
    },
    {
      "cell_type": "code",
      "metadata": {
        "id": "se3wq2yv6wB6"
      },
      "source": [
        "vectorizer = TfidfVectorizer()"
      ],
      "execution_count": 459,
      "outputs": []
    },
    {
      "cell_type": "code",
      "metadata": {
        "id": "Qxqe39S06zKV"
      },
      "source": [
        "liste_de_mots = [\" \".join(mot) for mot in df3[\"Description\"]]\n",
        "mots_frequents = vectorizer.fit_transform(df3[\"Description\"]).toDense()"
      ],
      "execution_count": null,
      "outputs": []
    },
    {
      "cell_type": "markdown",
      "metadata": {
        "id": "D8PjPCwz6TN3"
      },
      "source": [
        "## Régression logistique"
      ]
    },
    {
      "cell_type": "code",
      "metadata": {
        "id": "cyPucE0a5vyP"
      },
      "source": [
        "# Pour la prédiction binaire nous choisirons la régression logistique."
      ],
      "execution_count": null,
      "outputs": []
    },
    {
      "cell_type": "code",
      "metadata": {
        "id": "lKebl3lL6Xy0"
      },
      "source": [
        ""
      ],
      "execution_count": null,
      "outputs": []
    }
  ]
}